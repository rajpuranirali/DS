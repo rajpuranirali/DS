{
 "cells": [
  {
   "cell_type": "code",
   "execution_count": 1,
   "metadata": {},
   "outputs": [],
   "source": [
    "# function copy"
   ]
  },
  {
   "cell_type": "code",
   "execution_count": 2,
   "metadata": {},
   "outputs": [
    {
     "data": {
      "text/plain": [
       "'welcome to advance python course.'"
      ]
     },
     "execution_count": 2,
     "metadata": {},
     "output_type": "execute_result"
    }
   ],
   "source": [
    "def welcome():\n",
    "    return \"welcome to advance python course.\"\n",
    "\n",
    "welcome()"
   ]
  },
  {
   "cell_type": "code",
   "execution_count": 6,
   "metadata": {},
   "outputs": [
    {
     "data": {
      "text/plain": [
       "'welcome to advance python course.'"
      ]
     },
     "execution_count": 6,
     "metadata": {},
     "output_type": "execute_result"
    }
   ],
   "source": [
    "# function copy.\n",
    "wel = welcome\n",
    "wel()"
   ]
  },
  {
   "cell_type": "code",
   "execution_count": 8,
   "metadata": {},
   "outputs": [],
   "source": [
    "# delete welcome method.\n",
    "del welcome"
   ]
  },
  {
   "cell_type": "code",
   "execution_count": 9,
   "metadata": {},
   "outputs": [
    {
     "data": {
      "text/plain": [
       "'welcome to advance python course.'"
      ]
     },
     "execution_count": 9,
     "metadata": {},
     "output_type": "execute_result"
    }
   ],
   "source": [
    "# copied welcome() from wel,when I delete welcome(), no impact on wel.\n",
    "wel()"
   ]
  },
  {
   "cell_type": "code",
   "execution_count": 10,
   "metadata": {},
   "outputs": [
    {
     "ename": "NameError",
     "evalue": "name 'welcome' is not defined",
     "output_type": "error",
     "traceback": [
      "\u001b[31m---------------------------------------------------------------------------\u001b[39m",
      "\u001b[31mNameError\u001b[39m                                 Traceback (most recent call last)",
      "\u001b[36mCell\u001b[39m\u001b[36m \u001b[39m\u001b[32mIn[10]\u001b[39m\u001b[32m, line 1\u001b[39m\n\u001b[32m----> \u001b[39m\u001b[32m1\u001b[39m \u001b[43mwelcome\u001b[49m()\n",
      "\u001b[31mNameError\u001b[39m: name 'welcome' is not defined"
     ]
    }
   ],
   "source": [
    "welcome()"
   ]
  },
  {
   "cell_type": "code",
   "execution_count": 22,
   "metadata": {},
   "outputs": [],
   "source": [
    "# closure : function inside the function.\n",
    "def main_welcome():\n",
    "    print(\"this is main welcome.\")\n",
    "    def sub_welcome():\n",
    "        print(\"this is sub welcome.\")\n",
    "    return sub_welcome()\n"
   ]
  },
  {
   "cell_type": "code",
   "execution_count": 23,
   "metadata": {},
   "outputs": [
    {
     "name": "stdout",
     "output_type": "stream",
     "text": [
      "this is main welcome.\n",
      "this is sub welcome.\n"
     ]
    }
   ],
   "source": [
    "main_welcome()"
   ]
  },
  {
   "cell_type": "code",
   "execution_count": 32,
   "metadata": {},
   "outputs": [
    {
     "name": "stdout",
     "output_type": "stream",
     "text": [
      "this is sub welcome.\n",
      "welcome\n",
      "hello world!\n"
     ]
    }
   ],
   "source": [
    "# anything defined outside the submethod can be called in side the submethod\n",
    "def main_welcome():\n",
    "    msg = \"welcome\"\n",
    "    def sub_welcome():\n",
    "        print(\"this is sub welcome.\")\n",
    "        print(msg)\n",
    "        print(\"hello world!\")\n",
    "    return sub_welcome()\n",
    "main_welcome()"
   ]
  },
  {
   "cell_type": "code",
   "execution_count": 33,
   "metadata": {},
   "outputs": [
    {
     "name": "stdout",
     "output_type": "stream",
     "text": [
      "this is sub welcome.\n",
      "Namskar\n",
      "hello world!\n"
     ]
    }
   ],
   "source": [
    "def main_welcome(msg):\n",
    "    def sub_welcome():\n",
    "        print(\"this is sub welcome.\")\n",
    "        print(msg)\n",
    "        print(\"hello world!\")\n",
    "    return sub_welcome()\n",
    "main_welcome(\"Namskar\")"
   ]
  },
  {
   "cell_type": "code",
   "execution_count": 34,
   "metadata": {},
   "outputs": [
    {
     "name": "stdout",
     "output_type": "stream",
     "text": [
      "this is sub welcome.\n",
      "\n",
      "hello world!\n"
     ]
    }
   ],
   "source": [
    "def main_welcome(func):\n",
    "    def sub_welcome():\n",
    "        print(\"this is sub welcome.\")\n",
    "        func()\n",
    "        print(\"hello world!\")\n",
    "    return sub_welcome()\n",
    "main_welcome(print)"
   ]
  },
  {
   "cell_type": "code",
   "execution_count": 35,
   "metadata": {},
   "outputs": [
    {
     "name": "stdout",
     "output_type": "stream",
     "text": [
      "this is sub welcome.\n",
      "Hello Everyone\n",
      "hello world!\n"
     ]
    }
   ],
   "source": [
    "def main_welcome(func):\n",
    "    def sub_welcome():\n",
    "        print(\"this is sub welcome.\")\n",
    "        func(\"Hello Everyone\")\n",
    "        print(\"hello world!\")\n",
    "    return sub_welcome()\n",
    "main_welcome(print)"
   ]
  },
  {
   "cell_type": "code",
   "execution_count": 37,
   "metadata": {},
   "outputs": [],
   "source": [
    "# def functionname (parameters)"
   ]
  },
  {
   "cell_type": "code",
   "execution_count": 1,
   "metadata": {},
   "outputs": [],
   "source": [
    "def main_welcome(func, lst):\n",
    "    def sub_welcome():\n",
    "        print(\"this is sub welcome.\")\n",
    "        print(func(lst))\n",
    "        print(\"hello world!\")\n",
    "    return sub_welcome()\n"
   ]
  },
  {
   "cell_type": "code",
   "execution_count": 2,
   "metadata": {},
   "outputs": [
    {
     "name": "stdout",
     "output_type": "stream",
     "text": [
      "this is sub welcome.\n",
      "5\n",
      "hello world!\n"
     ]
    }
   ],
   "source": [
    "main_welcome(len, [1,2,3,4,5])"
   ]
  },
  {
   "cell_type": "code",
   "execution_count": 4,
   "metadata": {},
   "outputs": [
    {
     "name": "stdout",
     "output_type": "stream",
     "text": [
      "this is sub welcome.\n",
      "2\n",
      "hello world!\n"
     ]
    }
   ],
   "source": [
    "main_welcome(len, [\"hello\",\"world\"])"
   ]
  },
  {
   "cell_type": "code",
   "execution_count": 18,
   "metadata": {},
   "outputs": [],
   "source": [
    "# decorators\n",
    "def main_welcome(func):\n",
    "    def sub_welcome():\n",
    "        print(\"this is sub welcome.\")\n",
    "        func()\n",
    "        print(\"sub welome line 2\")\n",
    "    return sub_welcome()\n"
   ]
  },
  {
   "cell_type": "code",
   "execution_count": 19,
   "metadata": {},
   "outputs": [
    {
     "name": "stdout",
     "output_type": "stream",
     "text": [
      "This is the course intro function\n"
     ]
    }
   ],
   "source": [
    "def course_intro():\n",
    "    print(\"This is the course intro function\")\n",
    "course_intro()"
   ]
  },
  {
   "cell_type": "code",
   "execution_count": 21,
   "metadata": {},
   "outputs": [
    {
     "name": "stdout",
     "output_type": "stream",
     "text": [
      "this is sub welcome.\n",
      "This is the course intro function\n",
      "sub welome line 2\n"
     ]
    }
   ],
   "source": [
    "main_welcome(course_intro)"
   ]
  },
  {
   "cell_type": "code",
   "execution_count": 24,
   "metadata": {},
   "outputs": [
    {
     "name": "stdout",
     "output_type": "stream",
     "text": [
      "this is sub welcome.\n",
      "This is the course intro function\n",
      "lets see what happens!\n",
      "sub welome line 2\n"
     ]
    }
   ],
   "source": [
    "# creating decorators\n",
    "@main_welcome\n",
    "def course_intro():\n",
    "    print(\"This is the course intro function\")\n",
    "    print(\"lets see what happens!\")\n"
   ]
  },
  {
   "cell_type": "code",
   "execution_count": 34,
   "metadata": {},
   "outputs": [],
   "source": [
    "def my_decorator(func):\n",
    "    def wrapper():\n",
    "        print(\"Something is happening before function call.\")\n",
    "        func()\n",
    "        print(\"Something is happening after function call.\")\n",
    "    return wrapper    "
   ]
  },
  {
   "cell_type": "code",
   "execution_count": 33,
   "metadata": {},
   "outputs": [],
   "source": [
    "@my_decorator\n",
    "def say_hello():\n",
    "    print(\"Hello\")"
   ]
  },
  {
   "cell_type": "code",
   "execution_count": 35,
   "metadata": {},
   "outputs": [
    {
     "name": "stdout",
     "output_type": "stream",
     "text": [
      "Something is happening before function call.\n",
      "Hello\n",
      "Something is happening after function call.\n"
     ]
    }
   ],
   "source": [
    "say_hello()"
   ]
  },
  {
   "cell_type": "code",
   "execution_count": 40,
   "metadata": {},
   "outputs": [],
   "source": [
    "def repeat(n):\n",
    "    def decorator(func):\n",
    "        def wrapper(*args, **kwargs):\n",
    "            for _ in range(n):\n",
    "                func(*args, **kwargs)\n",
    "        return wrapper\n",
    "    return decorator\n"
   ]
  },
  {
   "cell_type": "code",
   "execution_count": 44,
   "metadata": {},
   "outputs": [],
   "source": [
    "@repeat(5)\n",
    "def say_hello():\n",
    "    print(\"hello\")"
   ]
  },
  {
   "cell_type": "code",
   "execution_count": 45,
   "metadata": {},
   "outputs": [
    {
     "name": "stdout",
     "output_type": "stream",
     "text": [
      "hello\n",
      "hello\n",
      "hello\n",
      "hello\n",
      "hello\n"
     ]
    }
   ],
   "source": [
    "say_hello()"
   ]
  },
  {
   "cell_type": "code",
   "execution_count": null,
   "metadata": {},
   "outputs": [],
   "source": []
  }
 ],
 "metadata": {
  "kernelspec": {
   "display_name": "nr",
   "language": "python",
   "name": "python3"
  },
  "language_info": {
   "codemirror_mode": {
    "name": "ipython",
    "version": 3
   },
   "file_extension": ".py",
   "mimetype": "text/x-python",
   "name": "python",
   "nbconvert_exporter": "python",
   "pygments_lexer": "ipython3",
   "version": "3.11.11"
  }
 },
 "nbformat": 4,
 "nbformat_minor": 2
}
