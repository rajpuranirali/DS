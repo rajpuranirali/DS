{
 "cells": [
  {
   "cell_type": "code",
   "execution_count": 62,
   "metadata": {},
   "outputs": [],
   "source": [
    "# inheritance\n",
    "# parent class\n",
    "class Car:\n",
    "    def __init__(self,window,door,enginetype):\n",
    "        self.window = window\n",
    "        self.door = door\n",
    "        self.enginetype = enginetype\n",
    "    def drivee(self):\n",
    "        print(f\"The person will drive the {self.enginetype} car.\")\n",
    "        # print(f\"{self.window}: {self.door} : {self.enginetype}\")\n",
    "        \n"
   ]
  },
  {
   "cell_type": "code",
   "execution_count": 63,
   "metadata": {},
   "outputs": [
    {
     "name": "stdout",
     "output_type": "stream",
     "text": [
      "The person will drive the petrol car.\n"
     ]
    }
   ],
   "source": [
    "car1 = Car(4,4,\"petrol\")\n",
    "car1.drivee()"
   ]
  },
  {
   "cell_type": "code",
   "execution_count": 64,
   "metadata": {},
   "outputs": [],
   "source": [
    "# Single Inheritance\n",
    "# SubClass\n",
    "# Tesla child class\n",
    "# Car parent class\n",
    "class Tesla(Car):\n",
    "    def __init__(self,windows,door,enginetype,drive):\n",
    "        super().__init__(windows,door,enginetype)\n",
    "        self.drive = drive\n",
    "    def self_drive(self):\n",
    "        print(f\"does Tesala supports selfdriving? {self.drive}\")   \n",
    "        "
   ]
  },
  {
   "cell_type": "code",
   "execution_count": 65,
   "metadata": {},
   "outputs": [
    {
     "name": "stdout",
     "output_type": "stream",
     "text": [
      "does Tesala supports selfdriving? yes\n",
      "The person will drive the electric car.\n"
     ]
    }
   ],
   "source": [
    "tesla1 = Tesla(4,4,\"electric\",\"yes\")\n",
    "tesla1.self_drive()\n",
    "tesla1.drivee()\n"
   ]
  },
  {
   "cell_type": "code",
   "execution_count": 67,
   "metadata": {},
   "outputs": [
    {
     "name": "stdout",
     "output_type": "stream",
     "text": [
      "I am Child Class\n",
      "I am Parent Class 2\n"
     ]
    }
   ],
   "source": [
    "# Multiple Inheritance\n",
    "# 2 base class 1 derived class\n",
    "# base class\n",
    "# Parent Class 1\n",
    "class ParentClass1:\n",
    "    def speak(self):\n",
    "        print(\"I am Parent Class 1\")\n",
    "\n",
    "# Parent Class 2\n",
    "class ParentClass2:\n",
    "    def speak2(self):\n",
    "        print(\"I am Parent Class 2\")\n",
    "\n",
    "# Child Class inheriting from both Parent Classes\n",
    "class ChildClass(ParentClass1, ParentClass2):\n",
    "    def speak(self):\n",
    "        print(\"I am Child Class\")\n",
    "\n",
    "# Create an instance of ChildClass\n",
    "child = ChildClass()\n",
    "\n",
    "# Call the speak method\n",
    "child.speak()\n",
    "child.speak2()\n"
   ]
  },
  {
   "cell_type": "code",
   "execution_count": 74,
   "metadata": {},
   "outputs": [
    {
     "name": "stdout",
     "output_type": "stream",
     "text": [
      "Jerry is the owner and tom is the pet\n"
     ]
    }
   ],
   "source": [
    "class Animal:\n",
    "    def __init__(self,name):\n",
    "        self.name = name\n",
    "    def speak():\n",
    "        print(\"This is base class1\")\n",
    "class Owner:\n",
    "    def __init__(self,owner):\n",
    "        self.owner = owner\n",
    "\n",
    "class Dog(Animal,Owner):\n",
    "    def __init__(self,name,owner):\n",
    "        Animal.__init__(self,name)\n",
    "        Owner.__init__(self,owner)\n",
    "    def speak(self):\n",
    "        return f\"{self.owner} is the owner and {self.name} is the pet\"\n",
    "\n",
    "dog1 = Dog(\"tom\",\"Jerry\") \n",
    "print(dog1.speak())"
   ]
  },
  {
   "cell_type": "code",
   "execution_count": null,
   "metadata": {},
   "outputs": [],
   "source": []
  },
  {
   "cell_type": "code",
   "execution_count": null,
   "metadata": {},
   "outputs": [],
   "source": []
  }
 ],
 "metadata": {
  "kernelspec": {
   "display_name": "nr",
   "language": "python",
   "name": "python3"
  },
  "language_info": {
   "codemirror_mode": {
    "name": "ipython",
    "version": 3
   },
   "file_extension": ".py",
   "mimetype": "text/x-python",
   "name": "python",
   "nbconvert_exporter": "python",
   "pygments_lexer": "ipython3",
   "version": "3.11.11"
  }
 },
 "nbformat": 4,
 "nbformat_minor": 2
}
