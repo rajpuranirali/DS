{
 "cells": [
  {
   "cell_type": "code",
   "execution_count": 2,
   "id": "d613efa9-0f81-4b20-a067-bc237319c660",
   "metadata": {},
   "outputs": [
    {
     "name": "stdout",
     "output_type": "stream",
     "text": [
      "Hello,\n",
      "How are you?\n",
      "\n"
     ]
    }
   ],
   "source": [
    "#Read whole file \n",
    "with open ('example.txt' , 'r') as file:\n",
    "    content =file.read()\n",
    "    print(content)"
   ]
  },
  {
   "cell_type": "code",
   "execution_count": 10,
   "id": "818b5d8c-858a-49f3-92f9-3c1a30567301",
   "metadata": {},
   "outputs": [
    {
     "name": "stdout",
     "output_type": "stream",
     "text": [
      "Hello,\n",
      "\n",
      "How are you?\n",
      "\n"
     ]
    }
   ],
   "source": [
    "# Read line by line\n",
    "# When I read line by line after a line whole new line is added \n",
    "\n",
    "with open ('example.txt', 'r') as file:\n",
    "    for line in file:\n",
    "        print(line)\n",
    "        "
   ]
  },
  {
   "cell_type": "code",
   "execution_count": 18,
   "id": "ca55554f-28a2-45e3-9f6d-7ac486d0495a",
   "metadata": {},
   "outputs": [
    {
     "name": "stdout",
     "output_type": "stream",
     "text": [
      "Hello,\n",
      "How are you?\n"
     ]
    }
   ],
   "source": [
    "with open ('example.txt', 'r') as file:\n",
    "    for line in file:\n",
    "        print(line.strip()) #line.strip()removes the new line character \n",
    "        "
   ]
  },
  {
   "cell_type": "code",
   "execution_count": 57,
   "id": "1666fca6-da03-4363-a720-d50d3f29b547",
   "metadata": {},
   "outputs": [],
   "source": [
    "# Writing a file(overwrite)\n",
    "# It will write in the file and entire content will be overwritten. \n",
    "with open('example.txt','w') as file:\n",
    "    file.write(\"Hello World\\n\")\n",
    "    file.write(\"This is a new line\\n\")\n",
    "    "
   ]
  },
  {
   "cell_type": "code",
   "execution_count": 59,
   "id": "5fc86fa8-3665-448c-ad38-764302105448",
   "metadata": {},
   "outputs": [],
   "source": [
    "# Write a file without overwrite\n",
    "# It will append the text as many time as we run thi \n",
    "with open('example.txt','a') as file:\n",
    "    file.write(\"My name is Tom\\n\")\n",
    "    file.write(\"Jerry is my best friend\\n\")\n"
   ]
  },
  {
   "cell_type": "code",
   "execution_count": 61,
   "id": "2f4a81ae-bf20-4989-b52f-4516594d7e20",
   "metadata": {},
   "outputs": [],
   "source": [
    "# writing a list of lines to the file.\n",
    "lines = ['first line \\n', 'second line\\n' , 'third line']\n",
    "with open('example.txt','a') as file:\n",
    "    file.writelines(lines)"
   ]
  },
  {
   "cell_type": "code",
   "execution_count": 67,
   "id": "90f82e82-56ca-40ba-9867-2ab4ace98e9f",
   "metadata": {},
   "outputs": [],
   "source": [
    "# binary file\n",
    "# bin file -> example.bin\n",
    "# wb is write bite\n",
    "\n",
    "data = b'\\x00\\x01\\x02\\x03\\x04'\n",
    "with open ('example.bin', 'wb') as file:\n",
    "    file.write(data)\n",
    "    \n",
    " "
   ]
  },
  {
   "cell_type": "code",
   "execution_count": 75,
   "id": "0560c09f-58de-4d88-894d-d2d45eebd0e9",
   "metadata": {},
   "outputs": [
    {
     "name": "stdout",
     "output_type": "stream",
     "text": [
      "b'\\x00\\x01\\x02\\x03\\x04'\n"
     ]
    }
   ],
   "source": [
    "with open ('example.bin' ,'rb') as file:\n",
    "       print(file.read())\n",
    "# hexa character we are getting.\n"
   ]
  },
  {
   "cell_type": "code",
   "execution_count": 87,
   "id": "e0286ae7-6a9b-4602-b700-2b17a3e379f3",
   "metadata": {},
   "outputs": [
    {
     "name": "stdout",
     "output_type": "stream",
     "text": [
      "Hello,\n",
      "I am a source file.\n",
      "for cell 84\n",
      "38\n"
     ]
    }
   ],
   "source": [
    "# read content from source file and paste it in destination file\n",
    "\"\"\" \n",
    "file.write(content) returns the number of characters written, so print(copyy) will print a number (e.g., 27 if 27 characters were written).\n",
    "If you only want to confirm successful copying, you might change the print message.\n",
    "\"\"\"\n",
    "with open('sourcefile.txt','r') as file:\n",
    "    content = file.read()\n",
    "    print(content)\n",
    "with open('destinationfile.txt','w') as file:\n",
    "    copyy = file.write(content)\n",
    "    print(copyy)\n",
    "    "
   ]
  },
  {
   "cell_type": "code",
   "execution_count": 91,
   "id": "251776d7-66ab-47f6-97cc-5105f01320f4",
   "metadata": {},
   "outputs": [
    {
     "name": "stdout",
     "output_type": "stream",
     "text": [
      "Copied 71 characters from sourcefile.txt to destinationfile.txt.\n"
     ]
    }
   ],
   "source": [
    "# Read from source file\n",
    "with open('source1.txt', 'r') as src:\n",
    "    content = src.read()\n",
    "\n",
    "# Write to destination file\n",
    "with open('destination1.txt', 'w') as dest:\n",
    "    characters_written = dest.write(content)\n",
    "\n",
    "print(f\"Copied {characters_written} characters from sourcefile.txt to destinationfile.txt.\")\n"
   ]
  },
  {
   "cell_type": "code",
   "execution_count": 103,
   "id": "2cc20e41-4caf-42d9-8bc4-57952117b90b",
   "metadata": {},
   "outputs": [
    {
     "name": "stdout",
     "output_type": "stream",
     "text": [
      "Total lines 3\n",
      "Total words 9\n",
      "Total char 39\n"
     ]
    }
   ],
   "source": [
    "# Read a text file and cout number of lines, words and characters\n",
    "\n",
    "with open ('source1.txt' , 'r') as file:\n",
    "    lines = file.readlines()\n",
    "    line_count = len(lines)\n",
    "    print(\"Total lines\" , line_count)\n",
    "    wordcount = 0\n",
    "    charcount = 0\n",
    "    for eline in lines:\n",
    "        wordcount+=len(line.split())\n",
    "        charcount +=len(line)\n",
    "    print(\"Total words\", wordcount)\n",
    "    print(\"Total char\",charcount)"
   ]
  },
  {
   "cell_type": "code",
   "execution_count": 129,
   "id": "c99ef8c2-be9c-4eec-b9c2-fa0138dedd10",
   "metadata": {},
   "outputs": [
    {
     "name": "stdout",
     "output_type": "stream",
     "text": [
      "\n"
     ]
    }
   ],
   "source": [
    "# writing a file then reading it\n",
    "# it will not read anything\n",
    "with open ('newfile.txt' , 'w+') as file :\n",
    "    file.write(\"Hello world\\n\")\n",
    "    file.write(\"I hope you are doing good\\n\")\n",
    "    file.write(\"Nice to meet you\")\n",
    "   \n",
    "    content = file.read()\n",
    "    print(content)\n"
   ]
  },
  {
   "cell_type": "code",
   "execution_count": 127,
   "id": "90ed1ae7-71ec-44ba-97cf-f3470db2ef42",
   "metadata": {},
   "outputs": [
    {
     "name": "stdout",
     "output_type": "stream",
     "text": [
      "Hello world\n",
      "I hope you are doing good\n",
      "Nice to meet you\n"
     ]
    }
   ],
   "source": [
    "\n",
    "# writing a file then reading it\n",
    "with open ('newfile.txt' , 'w+') as file :\n",
    "    file.write(\"Hello world\\n\")\n",
    "    file.write(\"I hope you are doing good\\n\")\n",
    "    file.write(\"Nice to meet you\")\n",
    "    file.seek(0) #Move cursor to the beginning oth index\n",
    "    content = file.read()\n",
    "    print(content)\n"
   ]
  },
  {
   "cell_type": "code",
   "execution_count": 125,
   "id": "5be3be82-5632-4519-87ee-4f6fa99f22d6",
   "metadata": {},
   "outputs": [
    {
     "name": "stdout",
     "output_type": "stream",
     "text": [
      "ello world\n",
      "I hope you are doing good\n",
      "Nice to meet you\n"
     ]
    }
   ],
   "source": [
    "# writing a file then reading it\n",
    "with open ('newfile.txt' , 'w+') as file :\n",
    "    file.write(\"Hello world\\n\")\n",
    "    file.write(\"I hope you are doing good\\n\")\n",
    "    file.write(\"Nice to meet you\")\n",
    "    file.seek(1) #Move cursor to the 1st index \n",
    "    content = file.read()\n",
    "    print(content)"
   ]
  },
  {
   "cell_type": "code",
   "execution_count": 49,
   "id": "e002aa13-f268-4ba7-aa73-dc1cf1f5ccd6",
   "metadata": {},
   "outputs": [
    {
     "name": "stdout",
     "output_type": "stream",
     "text": [
      "pack is created\n"
     ]
    }
   ],
   "source": [
    "# Create a new directory\n",
    "import os\n",
    "newdir = \"pack\"\n",
    "os.mkdir(newdir)\n",
    "print(f\"{newdir} is created\")\n"
   ]
  },
  {
   "cell_type": "code",
   "execution_count": 5,
   "id": "e146142c-2bda-45d5-989a-4a1d8093704f",
   "metadata": {},
   "outputs": [
    {
     "name": "stdout",
     "output_type": "stream",
     "text": [
      "packet is created\n"
     ]
    }
   ],
   "source": [
    "# Create a new directory\n",
    "import os\n",
    "new_directory = \"packet\"\n",
    "os.mkdir(new_directory)\n",
    "print(f\"{new_directory} is created\")\n"
   ]
  },
  {
   "cell_type": "code",
   "execution_count": 15,
   "id": "3c00814f-5751-47f8-92bc-3eb314e001be",
   "metadata": {},
   "outputs": [
    {
     "name": "stdout",
     "output_type": "stream",
     "text": [
      "['fileoperation.ipynb', 'functions.py', 'basic_python.py', 'destination.txt', 'tuple.py', 'example.csv', 'functionex.py', 'list.py', 'example.bin ', 'test1_dir', 'lambda.py', 'modules_3.py', 'pack', 'module_1.ipynb', 'source1.txt', 'modules_2.py', 'source.txt', 'map.py', 'newfile.txt', 'dictionaries.py', 'destinationfile.txt', 'example.bin', 'example.txt', 'filter.py', 'standardlib.ipynb', '.ipynb_checkpoints', 'destination1.txt', '.git', 'operators.py', 'Practice', 'sets.py', 'controlFlow.py', 'package', 'sourcefile.txt']\n"
     ]
    }
   ],
   "source": [
    "# listing files and directories\n",
    "items = os.listdir('.')\n",
    "print(items)"
   ]
  },
  {
   "cell_type": "code",
   "execution_count": 21,
   "id": "b58d0ad4-391a-42cc-b3ff-9a50b69ef5f0",
   "metadata": {},
   "outputs": [
    {
     "name": "stdout",
     "output_type": "stream",
     "text": [
      "DS/fileoperation.ipynb\n"
     ]
    }
   ],
   "source": [
    "# Joining path \n",
    "dir_name = \"DS\"\n",
    "file_name = \"fileoperation.ipynb\"\n",
    "full_path = os.path.join(dir_name,file_name)\n",
    "print(full_path)"
   ]
  },
  {
   "cell_type": "code",
   "execution_count": 23,
   "id": "fef6ee35-64fa-46ba-91d7-1be5b3d1a0fe",
   "metadata": {},
   "outputs": [
    {
     "name": "stdout",
     "output_type": "stream",
     "text": [
      "/Users/niralirajpura/Desktop/DS/DS/fileoperation.ipynb\n"
     ]
    }
   ],
   "source": [
    "# Joining path \n",
    "dir_name = \"DS\"\n",
    "file_name = \"fileoperation.ipynb\"\n",
    "full_path = os.path.join(os.getcwd(),dir_name,file_name)\n",
    "print(full_path)"
   ]
  },
  {
   "cell_type": "code",
   "execution_count": 31,
   "id": "b450ec1c-6659-4443-bd39-5dc1c4b04ccf",
   "metadata": {},
   "outputs": [
    {
     "name": "stdout",
     "output_type": "stream",
     "text": [
      "ex.txt is not exist\n",
      "lambda.py is exist\n"
     ]
    }
   ],
   "source": [
    "path = \"ex.txt\"\n",
    "if os.path.exists(path):\n",
    "    print(f\"{path} is exist\")\n",
    "else:\n",
    "    print(f\"{path} is not exist\")\n",
    "\n",
    "path = \"lambda.py\"\n",
    "if os.path.exists(path):\n",
    "    print(f\"{path} is exist\")\n",
    "else:\n",
    "    print(f\"{path} is not exist\")"
   ]
  },
  {
   "cell_type": "code",
   "execution_count": 39,
   "id": "d83efad4-6d4c-42f4-a53f-f67f4a2c4583",
   "metadata": {},
   "outputs": [
    {
     "name": "stdout",
     "output_type": "stream",
     "text": [
      "example.txt is a file\n"
     ]
    }
   ],
   "source": [
    "import os\n",
    "path  = 'example.txt'\n",
    "\n",
    "if os.path.isfile(path):\n",
    "    print(f\"{path} is a file\")\n",
    "elif os.path.isdir(path):\n",
    "    print(f\"{path} is a directory\")\n",
    "else:\n",
    "    print(f\"{path} is neighter file nor directory\")"
   ]
  },
  {
   "cell_type": "code",
   "execution_count": 43,
   "id": "752c6ecf-3f3a-4f1e-a31c-40b1779dd8f5",
   "metadata": {},
   "outputs": [
    {
     "name": "stdout",
     "output_type": "stream",
     "text": [
      "/Users/niralirajpura/Desktop/DS/example.txt\n"
     ]
    }
   ],
   "source": [
    "# Getting an absolute path \n",
    "relative_path = 'example.txt'\n",
    "absolute_path = os.path.abspath(relative_path)\n",
    "print(absolute_path)"
   ]
  },
  {
   "cell_type": "code",
   "execution_count": null,
   "id": "dd34aa14-a35d-4492-8097-8a66d3b42452",
   "metadata": {},
   "outputs": [],
   "source": []
  }
 ],
 "metadata": {
  "kernelspec": {
   "display_name": "Python [conda env:nr]",
   "language": "python",
   "name": "conda-env-nr-py"
  },
  "language_info": {
   "codemirror_mode": {
    "name": "ipython",
    "version": 3
   },
   "file_extension": ".py",
   "mimetype": "text/x-python",
   "name": "python",
   "nbconvert_exporter": "python",
   "pygments_lexer": "ipython3",
   "version": "3.11.11"
  }
 },
 "nbformat": 4,
 "nbformat_minor": 5
}
