{
 "cells": [
  {
   "cell_type": "code",
   "execution_count": 9,
   "id": "31fe1041-8db0-43a9-9946-cf4453ce9a71",
   "metadata": {},
   "outputs": [
    {
     "name": "stdout",
     "output_type": "stream",
     "text": [
      "Variable is not Assigned\n"
     ]
    }
   ],
   "source": [
    "# try catch block\n",
    "try:\n",
    "    a=b # # Code that might raise an error\n",
    "    \n",
    "except:\n",
    "    print(\"Variable is not Assigned\") # Code to run if that error occurs"
   ]
  },
  {
   "cell_type": "code",
   "execution_count": 11,
   "id": "b1baf652-3eaa-4d3e-a055-8132c72357fe",
   "metadata": {},
   "outputs": [
    {
     "ename": "NameError",
     "evalue": "name 'b' is not defined",
     "output_type": "error",
     "traceback": [
      "\u001b[31m---------------------------------------------------------------------------\u001b[39m",
      "\u001b[31mNameError\u001b[39m                                 Traceback (most recent call last)",
      "\u001b[36mCell\u001b[39m\u001b[36m \u001b[39m\u001b[32mIn[11]\u001b[39m\u001b[32m, line 1\u001b[39m\n\u001b[32m----> \u001b[39m\u001b[32m1\u001b[39m a=\u001b[43mb\u001b[49m\n",
      "\u001b[31mNameError\u001b[39m: name 'b' is not defined"
     ]
    }
   ],
   "source": [
    "a=b\n"
   ]
  },
  {
   "cell_type": "code",
   "execution_count": 17,
   "id": "71f7d9ab-ac9b-41a8-a224-2365a6881941",
   "metadata": {},
   "outputs": [
    {
     "name": "stdout",
     "output_type": "stream",
     "text": [
      "name 'b' is not defined\n"
     ]
    }
   ],
   "source": [
    "# display nameerror\n",
    "# NameError is a classs which handle this kind of exception print exxact error msg.\n",
    "try:\n",
    "    a=b\n",
    "except NameError as ex:\n",
    "    print(ex)\n",
    "    \n",
    "    \n",
    "    "
   ]
  },
  {
   "cell_type": "code",
   "execution_count": 19,
   "id": "cb2b0e2a-3b9a-4796-82a4-17c40da6987b",
   "metadata": {},
   "outputs": [
    {
     "ename": "ZeroDivisionError",
     "evalue": "division by zero",
     "output_type": "error",
     "traceback": [
      "\u001b[31m---------------------------------------------------------------------------\u001b[39m",
      "\u001b[31mZeroDivisionError\u001b[39m                         Traceback (most recent call last)",
      "\u001b[36mCell\u001b[39m\u001b[36m \u001b[39m\u001b[32mIn[19]\u001b[39m\u001b[32m, line 1\u001b[39m\n\u001b[32m----> \u001b[39m\u001b[32m1\u001b[39m result = \u001b[32;43m1\u001b[39;49m\u001b[43m/\u001b[49m\u001b[32;43m0\u001b[39;49m\n",
      "\u001b[31mZeroDivisionError\u001b[39m: division by zero"
     ]
    }
   ],
   "source": [
    "\n",
    "    result = 1/0\n",
    "\n",
    "    "
   ]
  },
  {
   "cell_type": "code",
   "execution_count": 21,
   "id": "48d3ba9a-70d7-4818-a25b-eacff46dde99",
   "metadata": {},
   "outputs": [
    {
     "name": "stdout",
     "output_type": "stream",
     "text": [
      "division by zero\n"
     ]
    }
   ],
   "source": [
    "try:\n",
    "     result = 1/0\n",
    "except ZeroDivisionError as ze:\n",
    "    print(ze)\n",
    "    "
   ]
  },
  {
   "cell_type": "code",
   "execution_count": 23,
   "id": "9fda38e8-8bd3-4639-bd2b-23039ffa914f",
   "metadata": {},
   "outputs": [
    {
     "name": "stdout",
     "output_type": "stream",
     "text": [
      "division by zero\n",
      "Please Enter denominator greater than 0\n"
     ]
    }
   ],
   "source": [
    "try:\n",
    "     result = 1/0\n",
    "except ZeroDivisionError as ze:\n",
    "    print(ze)\n",
    "    print(\"Please Enter denominator greater than 0\")\n",
    "    "
   ]
  },
  {
   "cell_type": "code",
   "execution_count": 27,
   "id": "7acae861-5ee4-474a-9676-18021a975cca",
   "metadata": {},
   "outputs": [
    {
     "name": "stdout",
     "output_type": "stream",
     "text": [
      "0.5\n"
     ]
    }
   ],
   "source": [
    "try:\n",
    "     result = 1/2\n",
    "     print(result)\n",
    "except ZeroDivisionError as ze:\n",
    "    print(ze)\n",
    "    print(\"Please Enter denominator greater than 0\")\n",
    "    "
   ]
  },
  {
   "cell_type": "code",
   "execution_count": 29,
   "id": "1a19aa0b-d176-445b-bc0d-3beafcdd599f",
   "metadata": {},
   "outputs": [
    {
     "ename": "NameError",
     "evalue": "name 'b' is not defined",
     "output_type": "error",
     "traceback": [
      "\u001b[31m---------------------------------------------------------------------------\u001b[39m",
      "\u001b[31mNameError\u001b[39m                                 Traceback (most recent call last)",
      "\u001b[36mCell\u001b[39m\u001b[36m \u001b[39m\u001b[32mIn[29]\u001b[39m\u001b[32m, line 3\u001b[39m\n\u001b[32m      1\u001b[39m \u001b[38;5;28;01mtry\u001b[39;00m:\n\u001b[32m      2\u001b[39m      result = \u001b[32m1\u001b[39m/\u001b[32m2\u001b[39m\n\u001b[32m----> \u001b[39m\u001b[32m3\u001b[39m      a=\u001b[43mb\u001b[49m\n\u001b[32m      4\u001b[39m      \u001b[38;5;28mprint\u001b[39m(result)\n\u001b[32m      5\u001b[39m \u001b[38;5;28;01mexcept\u001b[39;00m \u001b[38;5;167;01mZeroDivisionError\u001b[39;00m \u001b[38;5;28;01mas\u001b[39;00m ze:\n",
      "\u001b[31mNameError\u001b[39m: name 'b' is not defined"
     ]
    }
   ],
   "source": [
    "try:\n",
    "     result = 1/2\n",
    "     a=b\n",
    "     print(result)\n",
    "except ZeroDivisionError as ze:\n",
    "    print(ze)\n",
    "    print(\"Please Enter denominator greater than 0\")\n",
    "    "
   ]
  },
  {
   "cell_type": "code",
   "execution_count": 47,
   "id": "383c75aa-b6c0-4151-b3bc-4ec76d60daa5",
   "metadata": {},
   "outputs": [
    {
     "name": "stdout",
     "output_type": "stream",
     "text": [
      "name 'b' is not defined\n",
      "main exception caught here\n"
     ]
    }
   ],
   "source": [
    "# Exception this is parent class it should define at the end. It should not define before any other exception class as it is parent class exception. \n",
    "try:\n",
    "     result = 1/2\n",
    "     a=b\n",
    "     print(result)\n",
    "except ZeroDivisionError as ze:\n",
    "    print(ze)\n",
    "    print(\"Please Enter denominator greater than 0\")\n",
    "except Exception as ex1:\n",
    "    print(ex1)\n",
    "    print(\"main exception caught here\")"
   ]
  },
  {
   "cell_type": "code",
   "execution_count": 49,
   "id": "11746912-6d45-4c7d-a2e1-f6ca06da756e",
   "metadata": {},
   "outputs": [
    {
     "name": "stdout",
     "output_type": "stream",
     "text": [
      "name 'b' is not defined\n",
      "main exception caught here\n"
     ]
    }
   ],
   "source": [
    "try:\n",
    "     result = 1/2\n",
    "     a=b\n",
    "     print(result)\n",
    "except ZeroDivisionError as ze:\n",
    "    print(ze)\n",
    "    print(\"Please Enter denominator greater than 0\")\n",
    "except NameError as ex1:\n",
    "    print(ex1)\n",
    "    print(\"main exception caught here\")"
   ]
  },
  {
   "cell_type": "code",
   "execution_count": 51,
   "id": "13944082-2b12-433c-8640-0019606838e0",
   "metadata": {},
   "outputs": [
    {
     "name": "stdout",
     "output_type": "stream",
     "text": [
      "variable is not assigned\n",
      "main exception caught here\n"
     ]
    }
   ],
   "source": [
    "try:\n",
    "     result = 1/2\n",
    "     a=b\n",
    "     print(result)\n",
    "except ZeroDivisionError as ze:\n",
    "    print(ze)\n",
    "    print(\"Please Enter denominator greater than 0\")\n",
    "except :\n",
    "    print(\"variable is not assigned\")\n",
    "    print(\"main exception caught here\")"
   ]
  },
  {
   "cell_type": "code",
   "execution_count": 19,
   "id": "cb839ee2-e949-498a-b1c0-63f0f48ee807",
   "metadata": {},
   "outputs": [
    {
     "name": "stdin",
     "output_type": "stream",
     "text": [
      "Please enter a number a\n"
     ]
    },
    {
     "name": "stdout",
     "output_type": "stream",
     "text": [
      "This is not a valid number\n"
     ]
    }
   ],
   "source": [
    "try:\n",
    "    num = int(input(\"Please enter a number\"))\n",
    "    result = 10/num\n",
    "except ZeroDivisionError as ze:\n",
    "    print(ze)\n",
    "    print(\"Please Enter denominator greater than 0\")\n",
    "except ValueError as v:\n",
    "    print(\"This is not a valid number\")\n",
    "except Exception as ex:\n",
    "    print(ex)\n",
    "    \n",
    "    "
   ]
  },
  {
   "cell_type": "code",
   "execution_count": 15,
   "id": "8e0bb755-2dc4-4592-803a-e9204728a485",
   "metadata": {},
   "outputs": [
    {
     "name": "stdin",
     "output_type": "stream",
     "text": [
      "Please Enter number 5\n"
     ]
    },
    {
     "name": "stdout",
     "output_type": "stream",
     "text": [
      "Result of division is 2.0\n"
     ]
    }
   ],
   "source": [
    "# if no error rais it will execute the else block.\n",
    "try:\n",
    "    num = int(input(\"Please Enter number\"))\n",
    "    result = 10/num\n",
    "except ZeroDivisionError as ze:\n",
    "    print(ze)\n",
    "except ValueError as v:\n",
    "    print(v)\n",
    "else:\n",
    "    print(f\"Result of division is {result}\")\n",
    "    "
   ]
  },
  {
   "cell_type": "code",
   "execution_count": 25,
   "id": "7e6939ab-31ff-4f54-9d51-5ed0a362405d",
   "metadata": {},
   "outputs": [
    {
     "name": "stdin",
     "output_type": "stream",
     "text": [
      "Please Enter Number 5\n"
     ]
    },
    {
     "name": "stdout",
     "output_type": "stream",
     "text": [
      "division is : 2.0\n",
      "Execution is completed\n"
     ]
    }
   ],
   "source": [
    "# Try, except, else and finally\n",
    "# if error wont occur it will execute else block\n",
    "# if error occurs it will execute the exception block.\n",
    "# if error occurs or not it will execute the finally block.\n",
    "try: \n",
    "    num = int(input(\"Please Enter Number\"))\n",
    "    result= 10/num\n",
    "except ZeroDivisionError as ze:\n",
    "    print(ze)\n",
    "except ValueError as ve:\n",
    "    print(ve)\n",
    "else:\n",
    "    print(f\"division is : {result}\")\n",
    "finally:\n",
    "    print(\"Execution is completed\")\n"
   ]
  },
  {
   "cell_type": "code",
   "execution_count": 31,
   "id": "5c54ac39-96f8-4e4f-b6f0-25bc7ee07149",
   "metadata": {},
   "outputs": [
    {
     "name": "stdin",
     "output_type": "stream",
     "text": [
      "Please Enter Number 0\n"
     ]
    },
    {
     "name": "stdout",
     "output_type": "stream",
     "text": [
      "division by zero\n",
      "Execution is completed\n"
     ]
    }
   ],
   "source": [
    "# Try, except, else and finally\n",
    "# if error wont occur it will execute else block\n",
    "# if error occurs it will execute the exception block.\n",
    "# if error occurs or not it will execute the finally block.\n",
    "try: \n",
    "    num = int(input(\"Please Enter Number\"))\n",
    "    result= 10/num\n",
    "except ZeroDivisionError as ze:\n",
    "    # print(ze)\n",
    "    print(\"You can't devide by Zero\")\n",
    "except ValueError as ve:\n",
    "    print(ve)\n",
    "else:\n",
    "    print(f\"division is : {result}\")\n",
    "finally:\n",
    "    print(\"Execution is completed\")\n"
   ]
  },
  {
   "cell_type": "code",
   "execution_count": null,
   "id": "3d5deb26-2dc0-41d6-b5df-565ecfbcbcf1",
   "metadata": {},
   "outputs": [],
   "source": []
  }
 ],
 "metadata": {
  "kernelspec": {
   "display_name": "Python [conda env:nr]",
   "language": "python",
   "name": "conda-env-nr-py"
  },
  "language_info": {
   "codemirror_mode": {
    "name": "ipython",
    "version": 3
   },
   "file_extension": ".py",
   "mimetype": "text/x-python",
   "name": "python",
   "nbconvert_exporter": "python",
   "pygments_lexer": "ipython3",
   "version": "3.11.11"
  }
 },
 "nbformat": 4,
 "nbformat_minor": 5
}
