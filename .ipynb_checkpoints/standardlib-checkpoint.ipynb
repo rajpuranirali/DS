{
 "cells": [
  {
   "cell_type": "code",
   "execution_count": 2,
   "id": "786b0952-2dd7-4752-8428-37e5dbf7594d",
   "metadata": {},
   "outputs": [
    {
     "name": "stdout",
     "output_type": "stream",
     "text": [
      "array('i', [1, 2, 3, 4])\n"
     ]
    }
   ],
   "source": [
    "import array \n",
    "arr = array.array('i',[1,2,3,4])\n",
    "print(arr)"
   ]
  },
  {
   "cell_type": "code",
   "execution_count": 4,
   "id": "e8d0701c-30b1-4de6-81b2-bdecf4966056",
   "metadata": {},
   "outputs": [
    {
     "data": {
      "text/plain": [
       "4.0"
      ]
     },
     "execution_count": 4,
     "metadata": {},
     "output_type": "execute_result"
    }
   ],
   "source": [
    "import math \n",
    "math.sqrt(16)"
   ]
  },
  {
   "cell_type": "code",
   "execution_count": 10,
   "id": "42e7aecc-617d-4165-936f-d1566f38e112",
   "metadata": {},
   "outputs": [
    {
     "name": "stdout",
     "output_type": "stream",
     "text": [
      "6\n",
      "apple\n"
     ]
    }
   ],
   "source": [
    "# random\n",
    "import random\n",
    "print(random.randint(1,10)) # it will print random int from 1 to 10\n",
    "print(random.choice(['apple','banana','mango']))"
   ]
  },
  {
   "cell_type": "code",
   "execution_count": 14,
   "id": "35eae5e3-a522-414d-ab2e-d6cb3f828123",
   "metadata": {},
   "outputs": [
    {
     "name": "stdout",
     "output_type": "stream",
     "text": [
      "/Users/niralirajpura/Desktop/DS\n"
     ]
    }
   ],
   "source": [
    "# File and directory access\n",
    "import os\n",
    "print(os.getcwd())\n",
    "\n"
   ]
  },
  {
   "cell_type": "code",
   "execution_count": 20,
   "id": "9628cfcf-0c42-420a-8dca-11fa53a4f5b7",
   "metadata": {},
   "outputs": [],
   "source": [
    "os.mkdir('test1_dir')"
   ]
  },
  {
   "cell_type": "code",
   "execution_count": 24,
   "id": "3d78e9e7-0e97-408b-a8f5-49798e36e5ba",
   "metadata": {},
   "outputs": [
    {
     "data": {
      "text/plain": [
       "'destination.txt'"
      ]
     },
     "execution_count": 24,
     "metadata": {},
     "output_type": "execute_result"
    }
   ],
   "source": [
    "# high level operations on files and collection of files\n",
    "import shutil\n",
    "shutil.copyfile('source.txt', 'destination.txt')\n",
    "# copy source.txt file to destination.txt"
   ]
  },
  {
   "cell_type": "code",
   "execution_count": 31,
   "id": "92d72c32-cb6b-4095-95bd-59b0f4758df6",
   "metadata": {},
   "outputs": [
    {
     "name": "stdout",
     "output_type": "stream",
     "text": [
      "{\"name\": \"Tom \", \"age\": 20}\n",
      "<class 'str'>\n",
      "{'name': 'Tom ', 'age': 20}\n",
      "<class 'dict'>\n"
     ]
    }
   ],
   "source": [
    "# Data serialization\n",
    "# Convert dictionary to json\n",
    "\"\"\"\n",
    "parsed_data = json.loads(json_str)\n",
    "loads() stands for load string.\n",
    "It deserializes the JSON string json_str back into a Python dictionary.\n",
    "# It takes a Python object (like a dictionary, list, etc.) and converts it into a JSON-formatted string.\n",
    "# This is called serialization — converting data into a format (JSON string) that can be stored or transmitted.\n",
    "\"\"\"\n",
    "import json\n",
    "data = {'name':'Tom ','age':20}\n",
    "json_str =  json.dumps(data) \n",
    "\n",
    "print(json_str)\n",
    "print(type(json_str))\n",
    "parsed_data = json.loads(json_str)\n",
    "\n",
    "print(parsed_data)\n",
    "print(type(parsed_data))\n",
    "      \n"
   ]
  },
  {
   "cell_type": "code",
   "execution_count": 45,
   "id": "edbf646e-62e8-4470-9607-c4e4d0ebf7c7",
   "metadata": {},
   "outputs": [
    {
     "name": "stdout",
     "output_type": "stream",
     "text": [
      "['name', 'Age']\n",
      "['Tom', '10']\n"
     ]
    }
   ],
   "source": [
    "# csv\n",
    "import csv\n",
    "\"\"\"\n",
    "What this does:\n",
    "\n",
    "Creates a file named example.csv\n",
    "Writes 2 rows:\n",
    "First: name, Age\n",
    "Second: Tom, 10\n",
    "\n",
    "\"\"\"\n",
    "with open ('example.csv',mode = 'w', newline = '') as file :\n",
    "     writer = csv.writer(file)\n",
    "     writer.writerow(['name','Age'])\n",
    "     writer.writerow(['Tom','10'])\n",
    "\n",
    "\"\"\"\n",
    "what this does\n",
    "\n",
    "What this does:\n",
    "\n",
    "Opens the file to read\n",
    "Reads each row one by one\n",
    "Prints:\n",
    "\n",
    "\"\"\"\n",
    "with open ('example.csv',mode = 'r' ) as file :\n",
    "    reader = csv.reader(file)\n",
    "    for row in reader :\n",
    "        print(row)\n",
    "        \n"
   ]
  },
  {
   "cell_type": "code",
   "execution_count": 59,
   "id": "1a9134d6-3fe8-4d6e-89c5-59c7dd944691",
   "metadata": {},
   "outputs": [
    {
     "name": "stdout",
     "output_type": "stream",
     "text": [
      "2025-07-05 20:17:11.642591\n",
      "2025-07-06 20:17:11.642591\n",
      "2025-07-04 20:17:11.642591\n",
      "2025-07-03 20:17:11.642591\n"
     ]
    }
   ],
   "source": [
    "# datetime\n",
    "# timedelta : It lets you add or subtract time (like days, hours, minutes, etc.) from a date or time.\n",
    "from datetime import datetime,timedelta\n",
    "now = datetime.now()\n",
    "print(now)\n",
    "\n",
    "tmrw = now + timedelta(days=1)\n",
    "print(tmrw)\n",
    "\n",
    "yesterday = now - timedelta(days=1)\n",
    "print(yesterday)\n",
    "\n",
    "day_before_yesterday = now - timedelta(days=2)\n",
    "print(day_before_yesterday)\n",
    "\n",
    "\n"
   ]
  },
  {
   "cell_type": "code",
   "execution_count": 63,
   "id": "7f2eae06-ee03-4def-98ed-79558e8fae9c",
   "metadata": {},
   "outputs": [
    {
     "name": "stdout",
     "output_type": "stream",
     "text": [
      "1751764861.1551669\n",
      "1751764863.157603\n"
     ]
    }
   ],
   "source": [
    "# time\n",
    "\n",
    "\"\"\" \n",
    "time.sleep(2)\n",
    "This pauses the program for 2 seconds.\n",
    "While the program sleeps, nothing happens — it just waits.\n",
    "print(time.time()) (again)\n",
    "Prints the current time again, about 2 seconds later than the first time.\n",
    "\n",
    "\"\"\"\n",
    "import time \n",
    "print(time.time())\n",
    "time.sleep(2)\n",
    "print(time.time())\n"
   ]
  },
  {
   "cell_type": "code",
   "execution_count": 75,
   "id": "2455ab80-ac33-423f-804b-11b449ef4055",
   "metadata": {},
   "outputs": [
    {
     "name": "stdout",
     "output_type": "stream",
     "text": [
      "123\n"
     ]
    }
   ],
   "source": [
    "# Regular Expression\n",
    "import re #Loads the regular expression module in Python.\n",
    "\"\"\"\n",
    "\\d means a digit (0–9)\n",
    "+ means one or more digits\n",
    "So \\d+ means: find any number\n",
    "\n",
    "\"\"\"\n",
    "pattern = r'\\d+'\n",
    "text = \"There are 123 Mangos 456\"\n",
    "# match will stop at 123 as its matched. \n",
    "match = re. search(pattern, text)  #Looks for the first number in the sentence \"There are 123 Mangos\"\n",
    "print(match.group()) # Shows the number it found: 123"
   ]
  },
  {
   "cell_type": "code",
   "execution_count": null,
   "id": "01149148-5137-4698-a870-a6c8b6d54c0b",
   "metadata": {},
   "outputs": [],
   "source": []
  }
 ],
 "metadata": {
  "kernelspec": {
   "display_name": "Python [conda env:nr]",
   "language": "python",
   "name": "conda-env-nr-py"
  },
  "language_info": {
   "codemirror_mode": {
    "name": "ipython",
    "version": 3
   },
   "file_extension": ".py",
   "mimetype": "text/x-python",
   "name": "python",
   "nbconvert_exporter": "python",
   "pygments_lexer": "ipython3",
   "version": "3.11.11"
  }
 },
 "nbformat": 4,
 "nbformat_minor": 5
}
