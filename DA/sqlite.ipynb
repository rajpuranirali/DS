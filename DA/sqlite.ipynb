{
 "cells": [
  {
   "cell_type": "code",
   "execution_count": 8,
   "metadata": {},
   "outputs": [],
   "source": [
    "import sqlite3\n"
   ]
  },
  {
   "cell_type": "code",
   "execution_count": 9,
   "metadata": {},
   "outputs": [
    {
     "data": {
      "text/plain": [
       "<sqlite3.Connection at 0x10ecd3d30>"
      ]
     },
     "execution_count": 9,
     "metadata": {},
     "output_type": "execute_result"
    }
   ],
   "source": [
    "# connect\n",
    "# created example.db \n",
    "connection = sqlite3.connect('scl.db')\n",
    "connection"
   ]
  },
  {
   "cell_type": "code",
   "execution_count": 10,
   "metadata": {},
   "outputs": [],
   "source": [
    "# Create cursor\n",
    "cur = connection.cursor()"
   ]
  },
  {
   "cell_type": "code",
   "execution_count": 11,
   "metadata": {},
   "outputs": [],
   "source": [
    "# create a table\n",
    "cur.execute('''\n",
    "Create Table If Not Exists emp(\n",
    "id INT PRIMARY KEY,\n",
    "name Text not Null,\n",
    "age Int,\n",
    "Dept Text\n",
    ")\n",
    "\n",
    "'''\n",
    ")\n",
    "\n",
    "# without commit its not saved.\n",
    "connection.commit()"
   ]
  },
  {
   "cell_type": "code",
   "execution_count": 12,
   "metadata": {},
   "outputs": [
    {
     "data": {
      "text/plain": [
       "<sqlite3.Cursor at 0x10ed0da40>"
      ]
     },
     "execution_count": 12,
     "metadata": {},
     "output_type": "execute_result"
    }
   ],
   "source": [
    "cur.execute('''\n",
    "select * from emp\n",
    "'''\n",
    ")"
   ]
  },
  {
   "cell_type": "code",
   "execution_count": 13,
   "metadata": {},
   "outputs": [],
   "source": [
    "# insert the data\n",
    "cur.execute(\n",
    "'''Insert Into emp (id,name,age,dept)\n",
    "values (1,'Tom' , 20 , 'Computer')\n",
    "'''\n",
    ")\n",
    "\n",
    "cur.execute(\n",
    "'''Insert Into emp (id,name,age,dept)\n",
    "values (2,'Lella' , 22 , 'Computer')\n",
    "'''\n",
    ")\n",
    "\n",
    "\n",
    "cur.execute(\n",
    "'''Insert Into emp (id,name,age,dept)\n",
    "values (3,'Alexa' , 20 , 'Data Science')\n",
    "'''\n",
    ")\n",
    "\n",
    "\n",
    "cur.execute(\n",
    "'''Insert Into emp (id,name,age,dept)\n",
    "values (4,'Sky' , 21 , 'Engineering')\n",
    "'''\n",
    ")\n",
    "\n",
    "\n",
    "cur.execute(\n",
    "'''Insert Into emp (id,name,age,dept)\n",
    "values (5, 'Rita' , 21 , 'Engineering')\n",
    "'''\n",
    ")\n",
    "\n",
    "# commit the changes\n",
    "connection.commit()"
   ]
  },
  {
   "cell_type": "code",
   "execution_count": 14,
   "metadata": {},
   "outputs": [
    {
     "name": "stdout",
     "output_type": "stream",
     "text": [
      "(1, 'Tom', 20, 'Computer')\n",
      "(2, 'Lella', 22, 'Computer')\n",
      "(3, 'Alexa', 20, 'Data Science')\n",
      "(4, 'Sky', 21, 'Engineering')\n",
      "(5, 'Rita', 21, 'Engineering')\n"
     ]
    }
   ],
   "source": [
    "cur.execute('''\n",
    "select * from emp\n",
    "'''\n",
    ")\n",
    "\n",
    "rows = cur.fetchall()\n",
    "\n",
    "for row in rows:\n",
    "    print(row)"
   ]
  },
  {
   "cell_type": "code",
   "execution_count": null,
   "metadata": {},
   "outputs": [],
   "source": []
  }
 ],
 "metadata": {
  "kernelspec": {
   "display_name": "nr",
   "language": "python",
   "name": "python3"
  },
  "language_info": {
   "codemirror_mode": {
    "name": "ipython",
    "version": 3
   },
   "file_extension": ".py",
   "mimetype": "text/x-python",
   "name": "python",
   "nbconvert_exporter": "python",
   "pygments_lexer": "ipython3",
   "version": "3.11.11"
  }
 },
 "nbformat": 4,
 "nbformat_minor": 2
}
