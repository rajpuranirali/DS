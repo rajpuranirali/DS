{
 "cells": [
  {
   "cell_type": "code",
   "execution_count": 8,
   "metadata": {},
   "outputs": [],
   "source": [
    "import sqlite3\n"
   ]
  },
  {
   "cell_type": "code",
   "execution_count": 9,
   "metadata": {},
   "outputs": [
    {
     "data": {
      "text/plain": [
       "<sqlite3.Connection at 0x10ecd3d30>"
      ]
     },
     "execution_count": 9,
     "metadata": {},
     "output_type": "execute_result"
    }
   ],
   "source": [
    "# connect\n",
    "# created example.db \n",
    "connection = sqlite3.connect('scl.db')\n",
    "connection"
   ]
  },
  {
   "cell_type": "code",
   "execution_count": 10,
   "metadata": {},
   "outputs": [],
   "source": [
    "# Create cursor\n",
    "cur = connection.cursor()"
   ]
  },
  {
   "cell_type": "code",
   "execution_count": 11,
   "metadata": {},
   "outputs": [],
   "source": [
    "# create a table\n",
    "cur.execute('''\n",
    "Create Table If Not Exists emp(\n",
    "id INT PRIMARY KEY,\n",
    "name Text not Null,\n",
    "age Int,\n",
    "Dept Text\n",
    ")\n",
    "\n",
    "'''\n",
    ")\n",
    "\n",
    "# without commit its not saved.\n",
    "connection.commit()"
   ]
  },
  {
   "cell_type": "code",
   "execution_count": 12,
   "metadata": {},
   "outputs": [
    {
     "data": {
      "text/plain": [
       "<sqlite3.Cursor at 0x10ed0da40>"
      ]
     },
     "execution_count": 12,
     "metadata": {},
     "output_type": "execute_result"
    }
   ],
   "source": [
    "cur.execute('''\n",
    "select * from emp\n",
    "'''\n",
    ")"
   ]
  },
  {
   "cell_type": "code",
   "execution_count": 13,
   "metadata": {},
   "outputs": [],
   "source": [
    "# insert the data\n",
    "cur.execute(\n",
    "'''Insert Into emp (id,name,age,dept)\n",
    "values (1,'Tom' , 20 , 'Computer')\n",
    "'''\n",
    ")\n",
    "\n",
    "cur.execute(\n",
    "'''Insert Into emp (id,name,age,dept)\n",
    "values (2,'Lella' , 22 , 'Computer')\n",
    "'''\n",
    ")\n",
    "\n",
    "\n",
    "cur.execute(\n",
    "'''Insert Into emp (id,name,age,dept)\n",
    "values (3,'Alexa' , 20 , 'Data Science')\n",
    "'''\n",
    ")\n",
    "\n",
    "\n",
    "cur.execute(\n",
    "'''Insert Into emp (id,name,age,dept)\n",
    "values (4,'Sky' , 21 , 'Engineering')\n",
    "'''\n",
    ")\n",
    "\n",
    "\n",
    "cur.execute(\n",
    "'''Insert Into emp (id,name,age,dept)\n",
    "values (5, 'Rita' , 21 , 'Engineering')\n",
    "'''\n",
    ")\n",
    "\n",
    "# commit the changes\n",
    "connection.commit()"
   ]
  },
  {
   "cell_type": "code",
   "execution_count": 14,
   "metadata": {},
   "outputs": [
    {
     "name": "stdout",
     "output_type": "stream",
     "text": [
      "(1, 'Tom', 20, 'Computer')\n",
      "(2, 'Lella', 22, 'Computer')\n",
      "(3, 'Alexa', 20, 'Data Science')\n",
      "(4, 'Sky', 21, 'Engineering')\n",
      "(5, 'Rita', 21, 'Engineering')\n"
     ]
    }
   ],
   "source": [
    "cur.execute('''\n",
    "select * from emp\n",
    "'''\n",
    ")\n",
    "\n",
    "rows = cur.fetchall()\n",
    "\n",
    "for row in rows:\n",
    "    print(row)"
   ]
  },
  {
   "cell_type": "code",
   "execution_count": 19,
   "metadata": {},
   "outputs": [],
   "source": [
    "# update the data in the table\n",
    "cur.execute(\n",
    "    '''\n",
    "    update emp \n",
    "    set age= 29\n",
    "    where name = 'Tom'\n",
    "    '''\n",
    ")\n",
    "connection.commit()\n"
   ]
  },
  {
   "cell_type": "code",
   "execution_count": 20,
   "metadata": {},
   "outputs": [
    {
     "name": "stdout",
     "output_type": "stream",
     "text": [
      "(1, 'Tom', 29, 'Computer')\n",
      "(2, 'Lella', 22, 'Computer')\n",
      "(3, 'Alexa', 20, 'Data Science')\n",
      "(4, 'Sky', 21, 'Engineering')\n",
      "(5, 'Rita', 21, 'Engineering')\n"
     ]
    }
   ],
   "source": [
    "cur.execute('''\n",
    "select * from emp\n",
    "'''\n",
    ")\n",
    "\n",
    "rows = cur.fetchall()\n",
    "\n",
    "for row in rows:\n",
    "    print(row)\n",
    "    "
   ]
  },
  {
   "cell_type": "code",
   "execution_count": 21,
   "metadata": {},
   "outputs": [
    {
     "data": {
      "text/plain": [
       "<sqlite3.Cursor at 0x10ed0da40>"
      ]
     },
     "execution_count": 21,
     "metadata": {},
     "output_type": "execute_result"
    }
   ],
   "source": [
    "# delete the data from the table\n",
    "cur.execute(\n",
    "    '''\n",
    "    delete from emp where id = 3\n",
    "    '''\n",
    ")"
   ]
  },
  {
   "cell_type": "code",
   "execution_count": 22,
   "metadata": {},
   "outputs": [
    {
     "name": "stdout",
     "output_type": "stream",
     "text": [
      "(1, 'Tom', 29, 'Computer')\n",
      "(2, 'Lella', 22, 'Computer')\n",
      "(4, 'Sky', 21, 'Engineering')\n",
      "(5, 'Rita', 21, 'Engineering')\n"
     ]
    }
   ],
   "source": [
    "cur.execute('''\n",
    "select * from emp\n",
    "'''\n",
    ")\n",
    "\n",
    "rows = cur.fetchall()\n",
    "\n",
    "for row in rows:\n",
    "    print(row)"
   ]
  },
  {
   "cell_type": "code",
   "execution_count": 30,
   "metadata": {},
   "outputs": [],
   "source": [
    "# working with sales data\n",
    "connection = sqlite3.connect('sales_data.db')\n",
    "cur = connection.cursor()\n",
    "\n",
    "# create a table for sales data\n",
    "cur.execute(''' \n",
    "create table If not exists sales (\n",
    "id Int PRIMARY KEY,\n",
    "date Text, \n",
    "product Text Not Null,\n",
    "sales Int,\n",
    "region Text)\n",
    "''')\n",
    "\n",
    "\n",
    "connection.commit()\n",
    "\n"
   ]
  },
  {
   "cell_type": "code",
   "execution_count": 31,
   "metadata": {},
   "outputs": [],
   "source": [
    "sls_data = [\n",
    "    ('2022-01-01', 'Computer', 100, 'North'),\n",
    "    ('2022-01-02', 'TV', 200, 'South'),\n",
    "    ('2022-01-03', 'Mobile', 300, 'East'),\n",
    "]\n",
    "\n",
    "\n",
    "cur.executemany('''\n",
    "Insert into sales(date, product, sales, region) \n",
    "                                values(?,?,?,?)\n",
    "''',sls_data)\n",
    "connection.commit()\n"
   ]
  },
  {
   "cell_type": "code",
   "execution_count": 33,
   "metadata": {},
   "outputs": [
    {
     "name": "stdout",
     "output_type": "stream",
     "text": [
      "(None, '2022-01-01', 'Computer', 100, 'North')\n",
      "(None, '2022-01-02', 'TV', 200, 'South')\n",
      "(None, '2022-01-03', 'Mobile', 300, 'East')\n"
     ]
    }
   ],
   "source": [
    "cur.execute('''\n",
    "select * from sales\n",
    "'''\n",
    ")\n",
    "\n",
    "rows = cur.fetchall()\n",
    "\n",
    "for row in rows:\n",
    "    print(row)"
   ]
  },
  {
   "cell_type": "code",
   "execution_count": 35,
   "metadata": {},
   "outputs": [],
   "source": [
    "# close the connection\n",
    "connection.close()"
   ]
  },
  {
   "cell_type": "code",
   "execution_count": 37,
   "metadata": {},
   "outputs": [
    {
     "ename": "ProgrammingError",
     "evalue": "Cannot operate on a closed database.",
     "output_type": "error",
     "traceback": [
      "\u001b[31m---------------------------------------------------------------------------\u001b[39m",
      "\u001b[31mProgrammingError\u001b[39m                          Traceback (most recent call last)",
      "\u001b[36mCell\u001b[39m\u001b[36m \u001b[39m\u001b[32mIn[37]\u001b[39m\u001b[32m, line 2\u001b[39m\n\u001b[32m      1\u001b[39m \u001b[38;5;66;03m# gives an error as connection is closed.\u001b[39;00m\n\u001b[32m----> \u001b[39m\u001b[32m2\u001b[39m \u001b[43mcur\u001b[49m\u001b[43m.\u001b[49m\u001b[43mexecute\u001b[49m\u001b[43m(\u001b[49m\u001b[33;43m'''\u001b[39;49m\n\u001b[32m      3\u001b[39m \u001b[33;43mselect * from sales\u001b[39;49m\n\u001b[32m      4\u001b[39m \u001b[33;43m'''\u001b[39;49m\n\u001b[32m      5\u001b[39m \u001b[43m)\u001b[49m\n\u001b[32m      7\u001b[39m rows = cur.fetchall()\n\u001b[32m      9\u001b[39m \u001b[38;5;28;01mfor\u001b[39;00m row \u001b[38;5;129;01min\u001b[39;00m rows:\n",
      "\u001b[31mProgrammingError\u001b[39m: Cannot operate on a closed database."
     ]
    }
   ],
   "source": [
    "# gives an error as connection is closed.\n",
    "cur.execute('''\n",
    "select * from sales\n",
    "'''\n",
    ")\n",
    "\n",
    "rows = cur.fetchall()\n",
    "\n",
    "for row in rows:\n",
    "    print(row)"
   ]
  },
  {
   "cell_type": "code",
   "execution_count": null,
   "metadata": {},
   "outputs": [],
   "source": []
  }
 ],
 "metadata": {
  "kernelspec": {
   "display_name": "nr",
   "language": "python",
   "name": "python3"
  },
  "language_info": {
   "codemirror_mode": {
    "name": "ipython",
    "version": 3
   },
   "file_extension": ".py",
   "mimetype": "text/x-python",
   "name": "python",
   "nbconvert_exporter": "python",
   "pygments_lexer": "ipython3",
   "version": "3.11.11"
  }
 },
 "nbformat": 4,
 "nbformat_minor": 2
}
