{
 "cells": [
  {
   "cell_type": "code",
   "execution_count": 7,
   "metadata": {},
   "outputs": [
    {
     "data": {
      "text/html": [
       "<div>\n",
       "<style scoped>\n",
       "    .dataframe tbody tr th:only-of-type {\n",
       "        vertical-align: middle;\n",
       "    }\n",
       "\n",
       "    .dataframe tbody tr th {\n",
       "        vertical-align: top;\n",
       "    }\n",
       "\n",
       "    .dataframe thead th {\n",
       "        text-align: right;\n",
       "    }\n",
       "</style>\n",
       "<table border=\"1\" class=\"dataframe\">\n",
       "  <thead>\n",
       "    <tr style=\"text-align: right;\">\n",
       "      <th></th>\n",
       "      <th>Employee_name</th>\n",
       "      <th>email</th>\n",
       "      <th>job_profile</th>\n",
       "    </tr>\n",
       "  </thead>\n",
       "  <tbody>\n",
       "    <tr>\n",
       "      <th>0</th>\n",
       "      <td>James</td>\n",
       "      <td>james@gpgg.com</td>\n",
       "      <td>{'title1': 'Team lead', 'dept': 'computer'}</td>\n",
       "    </tr>\n",
       "  </tbody>\n",
       "</table>\n",
       "</div>"
      ],
      "text/plain": [
       "  Employee_name           email                                  job_profile\n",
       "0         James  james@gpgg.com  {'title1': 'Team lead', 'dept': 'computer'}"
      ]
     },
     "execution_count": 7,
     "metadata": {},
     "output_type": "execute_result"
    }
   ],
   "source": [
    "# reading data from different sources.\n",
    "import pandas as pd\n",
    "from io import StringIO\n",
    "data = '{\"Employee_name\": \"James\" , \"email\" : \"james@gpgg.com\" , \"job_profile\" : [{\"title1\" : \"Team lead\", \"dept\" : \"computer\"}] }'\n",
    "df = pd.read_json(StringIO(data))\n",
    "df"
   ]
  },
  {
   "cell_type": "code",
   "execution_count": 8,
   "metadata": {},
   "outputs": [
    {
     "data": {
      "text/plain": [
       "'{\"Employee_name\":{\"0\":\"James\"},\"email\":{\"0\":\"james@gpgg.com\"},\"job_profile\":{\"0\":{\"title1\":\"Team lead\",\"dept\":\"computer\"}}}'"
      ]
     },
     "execution_count": 8,
     "metadata": {},
     "output_type": "execute_result"
    }
   ],
   "source": [
    "df.to_json()"
   ]
  },
  {
   "cell_type": "code",
   "execution_count": 10,
   "metadata": {},
   "outputs": [
    {
     "data": {
      "text/plain": [
       "'{\"0\":{\"Employee_name\":\"James\",\"email\":\"james@gpgg.com\",\"job_profile\":{\"title1\":\"Team lead\",\"dept\":\"computer\"}}}'"
      ]
     },
     "execution_count": 10,
     "metadata": {},
     "output_type": "execute_result"
    }
   ],
   "source": [
    "df.to_json(orient='index')"
   ]
  },
  {
   "cell_type": "code",
   "execution_count": 11,
   "metadata": {},
   "outputs": [
    {
     "data": {
      "text/plain": [
       "'[{\"Employee_name\":\"James\",\"email\":\"james@gpgg.com\",\"job_profile\":{\"title1\":\"Team lead\",\"dept\":\"computer\"}}]'"
      ]
     },
     "execution_count": 11,
     "metadata": {},
     "output_type": "execute_result"
    }
   ],
   "source": [
    "df.to_json(orient='records')"
   ]
  },
  {
   "cell_type": "code",
   "execution_count": 17,
   "metadata": {},
   "outputs": [
    {
     "name": "stdout",
     "output_type": "stream",
     "text": [
      "      Make Colour  Odometer (KM)  Doors    Price\n",
      "0    Honda  White        35431.0    4.0  15323.0\n",
      "1      BMW   Blue       192714.0    5.0  19943.0\n",
      "2    Honda  White        84714.0    4.0  28343.0\n",
      "3   Toyota  White       154365.0    4.0  13434.0\n",
      "4   Nissan   Blue       181577.0    3.0  14043.0\n",
      "5    Honda    Red        42652.0    4.0  23883.0\n",
      "6   Toyota   Blue       163453.0    4.0   8473.0\n",
      "7    Honda  White            NaN    4.0  20306.0\n",
      "8      NaN  White       130538.0    4.0   9374.0\n",
      "9    Honda   Blue        51029.0    4.0  26683.0\n",
      "10  Nissan  White       167421.0    4.0  16259.0\n",
      "11  Nissan  Green        17119.0    4.0   6160.0\n",
      "12  Nissan  White       102303.0    4.0  16909.0\n",
      "13     NaN  White       134181.0    4.0  11121.0\n",
      "14   Honda   Blue       199833.0    4.0  18946.0\n",
      "15  Toyota   Blue       205592.0    4.0  16290.0\n",
      "16  Toyota    Red        96742.0    4.0  34465.0\n",
      "17     BMW  White       194189.0    5.0  17177.0\n",
      "18  Nissan  White        67991.0    3.0   9109.0\n",
      "19  Nissan   Blue       215820.0    4.0   6010.0\n"
     ]
    }
   ],
   "source": [
    "df = pd.read_csv(\"https://raw.githubusercontent.com/rajpuranirali/DS/main/DA/car_data.csv\")\n",
    "print(df.head(20))\n"
   ]
  },
  {
   "cell_type": "code",
   "execution_count": 20,
   "metadata": {},
   "outputs": [
    {
     "data": {
      "text/html": [
       "<div>\n",
       "<style scoped>\n",
       "    .dataframe tbody tr th:only-of-type {\n",
       "        vertical-align: middle;\n",
       "    }\n",
       "\n",
       "    .dataframe tbody tr th {\n",
       "        vertical-align: top;\n",
       "    }\n",
       "\n",
       "    .dataframe thead th {\n",
       "        text-align: right;\n",
       "    }\n",
       "</style>\n",
       "<table border=\"1\" class=\"dataframe\">\n",
       "  <thead>\n",
       "    <tr style=\"text-align: right;\">\n",
       "      <th></th>\n",
       "      <th>Snapshot_ID</th>\n",
       "      <th>Item_ID</th>\n",
       "      <th>Item_Name</th>\n",
       "      <th>Warehouse</th>\n",
       "      <th>Current_Stock</th>\n",
       "      <th>Snapshot_Timestamp</th>\n",
       "    </tr>\n",
       "  </thead>\n",
       "  <tbody>\n",
       "    <tr>\n",
       "      <th>0</th>\n",
       "      <td>22113</td>\n",
       "      <td>1195</td>\n",
       "      <td>Xbox Wireless Controller</td>\n",
       "      <td>LA Warehouse</td>\n",
       "      <td>0</td>\n",
       "      <td>2025-06-25 14:00:00</td>\n",
       "    </tr>\n",
       "    <tr>\n",
       "      <th>1</th>\n",
       "      <td>25737</td>\n",
       "      <td>1928</td>\n",
       "      <td>Microsoft Modern Webcam</td>\n",
       "      <td>Chicago Warehouse</td>\n",
       "      <td>359</td>\n",
       "      <td>2025-05-09 09:00:00</td>\n",
       "    </tr>\n",
       "    <tr>\n",
       "      <th>2</th>\n",
       "      <td>22624</td>\n",
       "      <td>2292</td>\n",
       "      <td>Microsoft HoloLens 2</td>\n",
       "      <td>Atlanta Distribution Hub</td>\n",
       "      <td>366</td>\n",
       "      <td>2025-10-31 12:00:00</td>\n",
       "    </tr>\n",
       "    <tr>\n",
       "      <th>3</th>\n",
       "      <td>21613</td>\n",
       "      <td>8552</td>\n",
       "      <td>Surface Pro 9</td>\n",
       "      <td>Houston Warehouse</td>\n",
       "      <td>199</td>\n",
       "      <td>2025-09-30 22:00:00</td>\n",
       "    </tr>\n",
       "    <tr>\n",
       "      <th>4</th>\n",
       "      <td>24646</td>\n",
       "      <td>5618</td>\n",
       "      <td>Azure GPU Node</td>\n",
       "      <td>Seattle Warehouse</td>\n",
       "      <td>175</td>\n",
       "      <td>2025-06-10 08:00:00</td>\n",
       "    </tr>\n",
       "    <tr>\n",
       "      <th>5</th>\n",
       "      <td>27380</td>\n",
       "      <td>8504</td>\n",
       "      <td>Data Center Cooling Unit</td>\n",
       "      <td>LA Warehouse</td>\n",
       "      <td>115</td>\n",
       "      <td>2025-09-19 01:00:00</td>\n",
       "    </tr>\n",
       "    <tr>\n",
       "      <th>6</th>\n",
       "      <td>25455</td>\n",
       "      <td>7014</td>\n",
       "      <td>Azure Rack Server</td>\n",
       "      <td>Houston Warehouse</td>\n",
       "      <td>125</td>\n",
       "      <td>2025-10-12 13:00:00</td>\n",
       "    </tr>\n",
       "    <tr>\n",
       "      <th>7</th>\n",
       "      <td>28132</td>\n",
       "      <td>7498</td>\n",
       "      <td>Surface Go 3</td>\n",
       "      <td>Houston Warehouse</td>\n",
       "      <td>125</td>\n",
       "      <td>2025-09-21 15:00:00</td>\n",
       "    </tr>\n",
       "    <tr>\n",
       "      <th>8</th>\n",
       "      <td>24608</td>\n",
       "      <td>5134</td>\n",
       "      <td>Surface Laptop 5</td>\n",
       "      <td>Houston Warehouse</td>\n",
       "      <td>416</td>\n",
       "      <td>2025-09-07 09:00:00</td>\n",
       "    </tr>\n",
       "    <tr>\n",
       "      <th>9</th>\n",
       "      <td>26025</td>\n",
       "      <td>3945</td>\n",
       "      <td>Surface Pen</td>\n",
       "      <td>Atlanta Distribution Hub</td>\n",
       "      <td>291</td>\n",
       "      <td>2025-06-21 07:00:00</td>\n",
       "    </tr>\n",
       "  </tbody>\n",
       "</table>\n",
       "</div>"
      ],
      "text/plain": [
       "   Snapshot_ID  Item_ID                 Item_Name                 Warehouse  \\\n",
       "0        22113     1195  Xbox Wireless Controller              LA Warehouse   \n",
       "1        25737     1928   Microsoft Modern Webcam         Chicago Warehouse   \n",
       "2        22624     2292      Microsoft HoloLens 2  Atlanta Distribution Hub   \n",
       "3        21613     8552             Surface Pro 9         Houston Warehouse   \n",
       "4        24646     5618            Azure GPU Node         Seattle Warehouse   \n",
       "5        27380     8504  Data Center Cooling Unit              LA Warehouse   \n",
       "6        25455     7014         Azure Rack Server         Houston Warehouse   \n",
       "7        28132     7498              Surface Go 3         Houston Warehouse   \n",
       "8        24608     5134          Surface Laptop 5         Houston Warehouse   \n",
       "9        26025     3945               Surface Pen  Atlanta Distribution Hub   \n",
       "\n",
       "   Current_Stock   Snapshot_Timestamp  \n",
       "0              0  2025-06-25 14:00:00  \n",
       "1            359  2025-05-09 09:00:00  \n",
       "2            366  2025-10-31 12:00:00  \n",
       "3            199  2025-09-30 22:00:00  \n",
       "4            175  2025-06-10 08:00:00  \n",
       "5            115  2025-09-19 01:00:00  \n",
       "6            125  2025-10-12 13:00:00  \n",
       "7            125  2025-09-21 15:00:00  \n",
       "8            416  2025-09-07 09:00:00  \n",
       "9            291  2025-06-21 07:00:00  "
      ]
     },
     "execution_count": 20,
     "metadata": {},
     "output_type": "execute_result"
    }
   ],
   "source": [
    "df1 = pd.read_csv(\"https://raw.githubusercontent.com/rajpuranirali/DS/refs/heads/main/DA/stock_snapshots.csv\")\n",
    "df1.head(10)"
   ]
  },
  {
   "cell_type": "code",
   "execution_count": 21,
   "metadata": {},
   "outputs": [
    {
     "data": {
      "text/html": [
       "<div>\n",
       "<style scoped>\n",
       "    .dataframe tbody tr th:only-of-type {\n",
       "        vertical-align: middle;\n",
       "    }\n",
       "\n",
       "    .dataframe tbody tr th {\n",
       "        vertical-align: top;\n",
       "    }\n",
       "\n",
       "    .dataframe thead th {\n",
       "        text-align: right;\n",
       "    }\n",
       "</style>\n",
       "<table border=\"1\" class=\"dataframe\">\n",
       "  <thead>\n",
       "    <tr style=\"text-align: right;\">\n",
       "      <th></th>\n",
       "      <th>0</th>\n",
       "      <th>1</th>\n",
       "      <th>2</th>\n",
       "      <th>3</th>\n",
       "      <th>4</th>\n",
       "      <th>5</th>\n",
       "    </tr>\n",
       "  </thead>\n",
       "  <tbody>\n",
       "    <tr>\n",
       "      <th>0</th>\n",
       "      <td>Snapshot_ID</td>\n",
       "      <td>Item_ID</td>\n",
       "      <td>Item_Name</td>\n",
       "      <td>Warehouse</td>\n",
       "      <td>Current_Stock</td>\n",
       "      <td>Snapshot_Timestamp</td>\n",
       "    </tr>\n",
       "    <tr>\n",
       "      <th>1</th>\n",
       "      <td>22113</td>\n",
       "      <td>1195</td>\n",
       "      <td>Xbox Wireless Controller</td>\n",
       "      <td>LA Warehouse</td>\n",
       "      <td>0</td>\n",
       "      <td>2025-06-25 14:00:00</td>\n",
       "    </tr>\n",
       "    <tr>\n",
       "      <th>2</th>\n",
       "      <td>25737</td>\n",
       "      <td>1928</td>\n",
       "      <td>Microsoft Modern Webcam</td>\n",
       "      <td>Chicago Warehouse</td>\n",
       "      <td>359</td>\n",
       "      <td>2025-05-09 09:00:00</td>\n",
       "    </tr>\n",
       "    <tr>\n",
       "      <th>3</th>\n",
       "      <td>22624</td>\n",
       "      <td>2292</td>\n",
       "      <td>Microsoft HoloLens 2</td>\n",
       "      <td>Atlanta Distribution Hub</td>\n",
       "      <td>366</td>\n",
       "      <td>2025-10-31 12:00:00</td>\n",
       "    </tr>\n",
       "    <tr>\n",
       "      <th>4</th>\n",
       "      <td>21613</td>\n",
       "      <td>8552</td>\n",
       "      <td>Surface Pro 9</td>\n",
       "      <td>Houston Warehouse</td>\n",
       "      <td>199</td>\n",
       "      <td>2025-09-30 22:00:00</td>\n",
       "    </tr>\n",
       "    <tr>\n",
       "      <th>5</th>\n",
       "      <td>24646</td>\n",
       "      <td>5618</td>\n",
       "      <td>Azure GPU Node</td>\n",
       "      <td>Seattle Warehouse</td>\n",
       "      <td>175</td>\n",
       "      <td>2025-06-10 08:00:00</td>\n",
       "    </tr>\n",
       "    <tr>\n",
       "      <th>6</th>\n",
       "      <td>27380</td>\n",
       "      <td>8504</td>\n",
       "      <td>Data Center Cooling Unit</td>\n",
       "      <td>LA Warehouse</td>\n",
       "      <td>115</td>\n",
       "      <td>2025-09-19 01:00:00</td>\n",
       "    </tr>\n",
       "    <tr>\n",
       "      <th>7</th>\n",
       "      <td>25455</td>\n",
       "      <td>7014</td>\n",
       "      <td>Azure Rack Server</td>\n",
       "      <td>Houston Warehouse</td>\n",
       "      <td>125</td>\n",
       "      <td>2025-10-12 13:00:00</td>\n",
       "    </tr>\n",
       "    <tr>\n",
       "      <th>8</th>\n",
       "      <td>28132</td>\n",
       "      <td>7498</td>\n",
       "      <td>Surface Go 3</td>\n",
       "      <td>Houston Warehouse</td>\n",
       "      <td>125</td>\n",
       "      <td>2025-09-21 15:00:00</td>\n",
       "    </tr>\n",
       "    <tr>\n",
       "      <th>9</th>\n",
       "      <td>24608</td>\n",
       "      <td>5134</td>\n",
       "      <td>Surface Laptop 5</td>\n",
       "      <td>Houston Warehouse</td>\n",
       "      <td>416</td>\n",
       "      <td>2025-09-07 09:00:00</td>\n",
       "    </tr>\n",
       "  </tbody>\n",
       "</table>\n",
       "</div>"
      ],
      "text/plain": [
       "             0        1                         2                         3  \\\n",
       "0  Snapshot_ID  Item_ID                 Item_Name                 Warehouse   \n",
       "1        22113     1195  Xbox Wireless Controller              LA Warehouse   \n",
       "2        25737     1928   Microsoft Modern Webcam         Chicago Warehouse   \n",
       "3        22624     2292      Microsoft HoloLens 2  Atlanta Distribution Hub   \n",
       "4        21613     8552             Surface Pro 9         Houston Warehouse   \n",
       "5        24646     5618            Azure GPU Node         Seattle Warehouse   \n",
       "6        27380     8504  Data Center Cooling Unit              LA Warehouse   \n",
       "7        25455     7014         Azure Rack Server         Houston Warehouse   \n",
       "8        28132     7498              Surface Go 3         Houston Warehouse   \n",
       "9        24608     5134          Surface Laptop 5         Houston Warehouse   \n",
       "\n",
       "               4                    5  \n",
       "0  Current_Stock   Snapshot_Timestamp  \n",
       "1              0  2025-06-25 14:00:00  \n",
       "2            359  2025-05-09 09:00:00  \n",
       "3            366  2025-10-31 12:00:00  \n",
       "4            199  2025-09-30 22:00:00  \n",
       "5            175  2025-06-10 08:00:00  \n",
       "6            115  2025-09-19 01:00:00  \n",
       "7            125  2025-10-12 13:00:00  \n",
       "8            125  2025-09-21 15:00:00  \n",
       "9            416  2025-09-07 09:00:00  "
      ]
     },
     "execution_count": 21,
     "metadata": {},
     "output_type": "execute_result"
    }
   ],
   "source": [
    "df1 = pd.read_csv(\"https://raw.githubusercontent.com/rajpuranirali/DS/refs/heads/main/DA/stock_snapshots.csv\", header = None)\n",
    "df1.head(10)"
   ]
  },
  {
   "cell_type": "code",
   "execution_count": 23,
   "metadata": {},
   "outputs": [],
   "source": [
    "# covert in csv file. convert this data frame in stock.csv file\n",
    "df1.to_csv(\"stock.csv\")"
   ]
  },
  {
   "cell_type": "code",
   "execution_count": 28,
   "metadata": {},
   "outputs": [],
   "source": [
    "# url = \" \"\n",
    "# df = pd.read_html(url)"
   ]
  },
  {
   "cell_type": "code",
   "execution_count": null,
   "metadata": {},
   "outputs": [],
   "source": [
    "\n"
   ]
  }
 ],
 "metadata": {
  "kernelspec": {
   "display_name": "nr",
   "language": "python",
   "name": "python3"
  },
  "language_info": {
   "codemirror_mode": {
    "name": "ipython",
    "version": 3
   },
   "file_extension": ".py",
   "mimetype": "text/x-python",
   "name": "python",
   "nbconvert_exporter": "python",
   "pygments_lexer": "ipython3",
   "version": "3.11.11"
  }
 },
 "nbformat": 4,
 "nbformat_minor": 2
}
