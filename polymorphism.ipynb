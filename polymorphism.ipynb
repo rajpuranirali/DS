{
 "cells": [
  {
   "cell_type": "code",
   "execution_count": 2,
   "metadata": {},
   "outputs": [
    {
     "name": "stdout",
     "output_type": "stream",
     "text": [
      "Woof\n",
      "Meow\n"
     ]
    }
   ],
   "source": [
    "# method overriding\n",
    "class Animal:\n",
    "    def sound(self):\n",
    "        print(\"Some generic animal sound\")\n",
    "\n",
    "class Dog(Animal):\n",
    "    def sound(self):\n",
    "        print(\"Woof\")\n",
    "\n",
    "class Cat(Animal):\n",
    "    def sound(self):\n",
    "        print(\"Meow\")\n",
    "\n",
    "# Creating objects of Dog and Cat\n",
    "dog = Dog()\n",
    "cat = Cat()\n",
    "\n",
    "# Calling sound method\n",
    "dog.sound()  # Output: Woof\n",
    "cat.sound()  # Output: Meow\n"
   ]
  },
  {
   "cell_type": "code",
   "execution_count": 15,
   "metadata": {},
   "outputs": [
    {
     "name": "stdout",
     "output_type": "stream",
     "text": [
      "The area is: 100\n",
      "The area is: 31400.0\n"
     ]
    }
   ],
   "source": [
    "# polymorphidm with functions and methods\n",
    "\n",
    "\"\"\"\n",
    "Polymorphism in Python is like having the same tool (method or function) that works in different ways for different situations.\n",
    "\n",
    "Function:\n",
    "A function is a block of code that is designed to perform a specific task.\n",
    "Functions are defined using the def keyword, and they can be called independently.\n",
    "They are not bound to any class or object.\n",
    "\n",
    "Method:\n",
    "A method is a function that is associated with an object or a class.\n",
    "Methods are defined inside a class and are called on an object or class instance.\n",
    "A method typically takes at least one argument: self, which refers to the instance of the class when the method is called on an object.\n",
    "\n",
    "\"\"\"\n",
    "class Shape:\n",
    "    def area(self):\n",
    "        return \"it will ocerride.\"\n",
    "\n",
    "class Rectangle(Shape):\n",
    "    def __init__(self,height,width):\n",
    "        self.height = height\n",
    "        self.width = width\n",
    "    def area(self):\n",
    "        return self.height * self.width\n",
    "\n",
    "class  Circle(Shape):\n",
    "    def __init__(self,redius):\n",
    "        self.redius = redius\n",
    "    def area(self):\n",
    "        return 3.14 * self.redius * self.redius\n",
    "    \n",
    "#function that demonstrate polymorphism\n",
    "def print_area(s):\n",
    "    print(f\"The area is: {s.area()}\")\n",
    "# If s is a Rectangle, it will calculate the area as height * width.\n",
    "# If s is a Circle, it will calculate the area as π * radius^2.\n",
    "\n",
    "rectangle1 = Rectangle(10,10)\n",
    "circle = Circle(100)\n",
    "print_area(rectangle1)\n",
    "print_area(circle)\n",
    "           "
   ]
  },
  {
   "cell_type": "code",
   "execution_count": 27,
   "metadata": {},
   "outputs": [
    {
     "name": "stdout",
     "output_type": "stream",
     "text": [
      "Car engine started\n",
      "Motorcycle engine started\n"
     ]
    }
   ],
   "source": [
    "from abc import ABC, abstractmethod\n",
    "\n",
    "# Define abstract class\n",
    "class Vehicle(ABC):\n",
    "    @abstractmethod\n",
    "    def start_engine(self):\n",
    "        pass\n",
    "\n",
    "# Define Car class\n",
    "class Car(Vehicle):\n",
    "    def start_engine(self):\n",
    "        return \"Car engine started\"\n",
    "\n",
    "# Define Motorcycle class\n",
    "class Motorcycle(Vehicle):\n",
    "    def start_engine(self): \n",
    "        return \"Motorcycle engine started\"\n",
    "\n",
    "# Function that demonstrates polymorphism\n",
    "def start_vehicle(vehicle):\n",
    "    print(vehicle.start_engine())\n",
    "\n",
    "# Create objects\n",
    "car = Car()\n",
    "motorcycle = Motorcycle()\n",
    "\n",
    "# Call the method with different objects\n",
    "start_vehicle(car)        # Calls Car's start_engine() method\n",
    "start_vehicle(motorcycle) # Calls Motorcycle's start_engine() method\n"
   ]
  },
  {
   "cell_type": "code",
   "execution_count": 28,
   "metadata": {},
   "outputs": [
    {
     "name": "stdout",
     "output_type": "stream",
     "text": [
      "Some animal sound\n"
     ]
    }
   ],
   "source": [
    "# Normal class\n",
    "class Animal:\n",
    "    def make_sound(self):\n",
    "        return \"Some animal sound\"\n",
    "    \n",
    "# You can directly create an object of Animal\n",
    "animal = Animal()\n",
    "print(animal.make_sound())  # Output: Some animal sound\n"
   ]
  },
  {
   "cell_type": "code",
   "execution_count": 29,
   "metadata": {},
   "outputs": [
    {
     "name": "stdout",
     "output_type": "stream",
     "text": [
      "Woof!\n",
      "Meow!\n"
     ]
    }
   ],
   "source": [
    "# Abstract Class (Can't be used directly):\n",
    "\n",
    "from abc import ABC, abstractmethod\n",
    "\n",
    "class Animal(ABC):  # This is an abstract class\n",
    "    @abstractmethod\n",
    "    def make_sound(self):\n",
    "        pass  # You don't define this method here\n",
    "\n",
    "class Dog(Animal):  # Subclass of Animal\n",
    "    def make_sound(self):\n",
    "        return \"Woof!\"\n",
    "    \n",
    "class Cat(Animal):  # Another subclass of Animal\n",
    "    def make_sound(self):\n",
    "        return \"Meow!\"\n",
    "\n",
    "# You can't do this:\n",
    "# animal = Animal()  # Error! You can't create an object from Animal directly.\n",
    "\n",
    "# But you can create objects from Dog and Cat, which have filled in the missing method.\n",
    "dog = Dog()\n",
    "cat = Cat()\n",
    "\n",
    "print(dog.make_sound())  # Output: Woof!\n",
    "print(cat.make_sound())  # Output: Meow!\n"
   ]
  }
 ],
 "metadata": {
  "kernelspec": {
   "display_name": "nr",
   "language": "python",
   "name": "python3"
  },
  "language_info": {
   "codemirror_mode": {
    "name": "ipython",
    "version": 3
   },
   "file_extension": ".py",
   "mimetype": "text/x-python",
   "name": "python",
   "nbconvert_exporter": "python",
   "pygments_lexer": "ipython3",
   "version": "3.11.11"
  }
 },
 "nbformat": 4,
 "nbformat_minor": 2
}
