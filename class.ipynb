{
 "cells": [
  {
   "cell_type": "code",
   "execution_count": 1,
   "id": "fe5e2680-bb33-431e-a34a-3cb5163e5be8",
   "metadata": {},
   "outputs": [],
   "source": [
    "class car:\n",
    "    pass"
   ]
  },
  {
   "cell_type": "code",
   "execution_count": 2,
   "id": "db93d11f-7e9d-443f-90bc-e7b7e7398062",
   "metadata": {},
   "outputs": [
    {
     "name": "stdout",
     "output_type": "stream",
     "text": [
      "Type of Audi is:  <class '__main__.car'>\n",
      "Type of car is:  <class 'type'>\n"
     ]
    }
   ],
   "source": [
    "# car is a class\n",
    "# audi is object of a class\n",
    "# bmw is object of a class\n",
    "\n",
    "class car:\n",
    "    pass\n",
    "audi = car()\n",
    "bmw = car()\n",
    "tata = car()\n",
    "print(\"Type of Audi is: \",type(audi))\n",
    "print(\"Type of car is: \",type (car))"
   ]
  },
  {
   "cell_type": "code",
   "execution_count": 3,
   "id": "e8bbd83b-93dc-4286-95ce-c1ef3a51ae47",
   "metadata": {},
   "outputs": [
    {
     "name": "stdout",
     "output_type": "stream",
     "text": [
      "<__main__.car object at 0x10640d510>\n",
      "<__main__.car object at 0x10640d310>\n"
     ]
    }
   ],
   "source": [
    "print(audi)\n",
    "print(bmw)"
   ]
  },
  {
   "cell_type": "code",
   "execution_count": 4,
   "id": "633ffd0a-ad6e-4e2b-9942-373ec8e9677b",
   "metadata": {},
   "outputs": [
    {
     "name": "stdout",
     "output_type": "stream",
     "text": [
      "4\n"
     ]
    }
   ],
   "source": [
    "audi.windows=4 #attribute\n",
    "print(audi.windows)"
   ]
  },
  {
   "cell_type": "code",
   "execution_count": 5,
   "id": "9596f476-cc8b-4597-ab55-523a40b99ffa",
   "metadata": {},
   "outputs": [
    {
     "name": "stdout",
     "output_type": "stream",
     "text": [
      "4\n"
     ]
    }
   ],
   "source": [
    "tata.door =4\n",
    "print(tata.door)"
   ]
  },
  {
   "cell_type": "code",
   "execution_count": 6,
   "id": "8b6514d8-7bd8-488e-b3b8-b80b0f5994c4",
   "metadata": {},
   "outputs": [
    {
     "data": {
      "text/plain": [
       "['__class__',\n",
       " '__delattr__',\n",
       " '__dict__',\n",
       " '__dir__',\n",
       " '__doc__',\n",
       " '__eq__',\n",
       " '__format__',\n",
       " '__ge__',\n",
       " '__getattribute__',\n",
       " '__getstate__',\n",
       " '__gt__',\n",
       " '__hash__',\n",
       " '__init__',\n",
       " '__init_subclass__',\n",
       " '__le__',\n",
       " '__lt__',\n",
       " '__module__',\n",
       " '__ne__',\n",
       " '__new__',\n",
       " '__reduce__',\n",
       " '__reduce_ex__',\n",
       " '__repr__',\n",
       " '__setattr__',\n",
       " '__sizeof__',\n",
       " '__str__',\n",
       " '__subclasshook__',\n",
       " '__weakref__',\n",
       " 'door']"
      ]
     },
     "execution_count": 6,
     "metadata": {},
     "output_type": "execute_result"
    }
   ],
   "source": [
    "dir(tata)"
   ]
  },
  {
   "cell_type": "code",
   "execution_count": 7,
   "id": "84e2857b-d44d-46ab-bb62-eb2930b6e54a",
   "metadata": {},
   "outputs": [
    {
     "name": "stdout",
     "output_type": "stream",
     "text": [
      "2020 Toyota Corolla\n"
     ]
    }
   ],
   "source": [
    "class Car:\n",
    "    # Constructor to initialize attributes\n",
    "    def __init__(self, make, model, year):\n",
    "        self.make = make  # Instance variable\n",
    "        self.model = model  # Instance variable\n",
    "        self.year = year  # Instance variable\n",
    "\n",
    "    # Method to display car information\n",
    "    def display_info(self):\n",
    "        print(f\"{self.year} {self.make} {self.model}\")\n",
    "\n",
    "# Creating an object of the class 'Car'\n",
    "my_car = Car(\"Toyota\", \"Corolla\", 2020)\n",
    "\n",
    "# Calling method on the object\n",
    "my_car.display_info()\n",
    "\n"
   ]
  },
  {
   "cell_type": "code",
   "execution_count": 8,
   "id": "779c1f37-1b45-4be6-9c44-ea27e58900ee",
   "metadata": {},
   "outputs": [
    {
     "name": "stdout",
     "output_type": "stream",
     "text": [
      "<__main__.Dog object at 0x106465250>\n",
      "Budy\n",
      "4\n"
     ]
    }
   ],
   "source": [
    "# Creating Class\n",
    "class Dog: \n",
    " # Constructor to initialize attributes\n",
    "    def __init__(self,name,age): \n",
    "        self.name = name\n",
    "        self.age = age\n",
    "\n",
    "# Creating Objects\n",
    "dog1 = Dog(\"Budy\" , 4)\n",
    "print(dog1)\n",
    "print(dog1.name)\n",
    "print(dog1.age)"
   ]
  },
  {
   "cell_type": "code",
   "execution_count": 1,
   "id": "004f8039-18cb-45e7-87e2-dcb9f467b2bf",
   "metadata": {},
   "outputs": [
    {
     "name": "stdout",
     "output_type": "stream",
     "text": [
      "Budy says woof\n",
      "Budy is 3 years old.\n",
      "\n",
      "Lucy says woof\n",
      "\n",
      "Lucy is 6 years old.\n"
     ]
    }
   ],
   "source": [
    "# Define a class with instance method\n",
    "class Dog:\n",
    "    \n",
    "    def __init__(self,name, age): #name and age are instance variable.\n",
    "        self.name = name\n",
    "        self.age = age\n",
    "    def bark(self): #instance method\n",
    "        print(f\"{self.name} says woof\")\n",
    "    def years(self):\n",
    "        print(f\"{self.name} is {self.age} years old.\")\n",
    "\n",
    "        \n",
    "dog1 = Dog(\"Budy\" , 3)\n",
    "dog1.bark()\n",
    "dog1.years()\n",
    "\n",
    "dog2 = Dog(\"\\nLucy\",6)\n",
    "dog2.bark()\n",
    "dog2.years()\n",
    "        \n",
    "    "
   ]
  },
  {
   "cell_type": "code",
   "execution_count": 3,
   "id": "6d279569-9552-4807-9809-92a4b43ca811",
   "metadata": {},
   "outputs": [
    {
     "name": "stdout",
     "output_type": "stream",
     "text": [
      "Your balance is 2000\n"
     ]
    }
   ],
   "source": [
    "# Bank Account\n",
    "class BankAccount:\n",
    "    def __init__(self,owner,balance = 0):\n",
    "        self.owner = owner\n",
    "        self.balance = balance\n",
    "    def deposite(self,amount):\n",
    "        self.balance+=amount\n",
    "        print(f\"You Deposited money in bank. Your new balance is {self.balance}\")\n",
    "    def withdraw(self,amount):\n",
    "        if self.balance < amount:\n",
    "            print(\"Insufficient Balance\")\n",
    "        else:\n",
    "            self.balance-= amount\n",
    "            print(f\"Deposited from your account: {self.balance}\")\n",
    "    def get_balance(self):\n",
    "        print(f\"Your balance is {self.balance}\")\n",
    "account= BankAccount(\"Tom\",2000)\n",
    "       \n",
    "account.get_balance()"
   ]
  },
  {
   "cell_type": "code",
   "execution_count": 5,
   "id": "e5ca922b-72c7-40e0-a3da-842ff22dd77c",
   "metadata": {},
   "outputs": [
    {
     "name": "stdout",
     "output_type": "stream",
     "text": [
      "You Deposited money in bank. Your new balance is 3000\n",
      "Your balance is 3000\n"
     ]
    }
   ],
   "source": [
    "account.deposite(1000)\n",
    "account.get_balance()"
   ]
  },
  {
   "cell_type": "code",
   "execution_count": 7,
   "id": "a33b482a-dd55-47b5-9189-822f998f95ec",
   "metadata": {},
   "outputs": [
    {
     "name": "stdout",
     "output_type": "stream",
     "text": [
      "Deposited from your account: 2000\n",
      "Your balance is 2000\n"
     ]
    }
   ],
   "source": [
    "account.withdraw(1000)\n",
    "account.get_balance()"
   ]
  },
  {
   "cell_type": "code",
   "execution_count": 9,
   "id": "0c933162-29a7-4257-95e2-851b1857398a",
   "metadata": {},
   "outputs": [
    {
     "name": "stdout",
     "output_type": "stream",
     "text": [
      "Insufficient Balance\n"
     ]
    }
   ],
   "source": [
    "account.withdraw(3000)"
   ]
  },
  {
   "cell_type": "code",
   "execution_count": 11,
   "id": "b3b936f7-e9d0-4157-b1f5-7b3b65fd5ea7",
   "metadata": {},
   "outputs": [
    {
     "name": "stdout",
     "output_type": "stream",
     "text": [
      "Owner Name: Jerry\n"
     ]
    },
    {
     "name": "stdout",
     "output_type": "stream",
     "text": [
      "Jerry balance is 2000\n"
     ]
    }
   ],
   "source": [
    "# Bank Account\n",
    "class BankAccount:\n",
    "    def __init__(self,owner,balance = 0):\n",
    "        self.owner = owner\n",
    "        self.balance = balance\n",
    "    def deposite(self,amount):\n",
    "        self.balance+=amount\n",
    "        print(f\"You Deposited money in bank. Your new balance is {self.balance}\")\n",
    "    def withdraw(self,amount):\n",
    "        if self.balance < amount:\n",
    "            print(\"Insufficient Balance\")\n",
    "        else:\n",
    "            self.balance-= amount\n",
    "            print(f\"Deposited from your account: {self.balance}\")\n",
    "    def get_balance(self):\n",
    "        print(f\"{self.owner} balance is {self.balance}\")\n",
    "        \n",
    "ownerr = str(input(\"Owner Name:\"))\n",
    "account = BankAccount(ownerr,2000)\n",
    "\n",
    "account.get_balance()"
   ]
  },
  {
   "cell_type": "code",
   "execution_count": null,
   "id": "c62cecd7-d220-4d76-9cc9-027bc4a52488",
   "metadata": {},
   "outputs": [],
   "source": []
  }
 ],
 "metadata": {
  "kernelspec": {
   "display_name": "nr",
   "language": "python",
   "name": "python3"
  },
  "language_info": {
   "codemirror_mode": {
    "name": "ipython",
    "version": 3
   },
   "file_extension": ".py",
   "mimetype": "text/x-python",
   "name": "python",
   "nbconvert_exporter": "python",
   "pygments_lexer": "ipython3",
   "version": "3.11.11"
  }
 },
 "nbformat": 4,
 "nbformat_minor": 5
}
