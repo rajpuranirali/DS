{
 "cells": [
  {
   "cell_type": "code",
   "execution_count": 2,
   "metadata": {},
   "outputs": [
    {
     "name": "stdout",
     "output_type": "stream",
     "text": [
      "1\n",
      "2\n",
      "3\n",
      "4\n"
     ]
    }
   ],
   "source": [
    "# simple way to create an iterator.\n",
    "def my_generator():\n",
    "    yield 1\n",
    "    yield 2\n",
    "    yield 3\n",
    "    yield 4\n",
    "\n",
    "for value in my_generator():\n",
    "    print(value)\n"
   ]
  },
  {
   "cell_type": "code",
   "execution_count": 13,
   "metadata": {},
   "outputs": [
    {
     "name": "stdout",
     "output_type": "stream",
     "text": [
      "1\n",
      "2\n",
      "3\n",
      "Generator is exhausted! Last value was: None\n"
     ]
    }
   ],
   "source": [
    "def gen():\n",
    "    yield 1\n",
    "    yield 2\n",
    "    yield 3\n",
    "\n",
    "g = gen()\n",
    "\n",
    "try:\n",
    "    print(next(g)) \n",
    "    print(next(g))  # 1\n",
    "    print(next(g))  # 2\n",
    "    print(next(g))   # StopIteration\n",
    "except Exception as e:\n",
    "     print(f\"Generator is exhausted! Last value was: {e.value}\")\n"
   ]
  },
  {
   "cell_type": "code",
   "execution_count": 14,
   "metadata": {},
   "outputs": [],
   "source": [
    "def sqr(n):\n",
    "    for i in range(3):\n",
    "        yield i**2"
   ]
  },
  {
   "cell_type": "code",
   "execution_count": 16,
   "metadata": {},
   "outputs": [
    {
     "data": {
      "text/plain": [
       "<generator object sqr at 0x10515c040>"
      ]
     },
     "execution_count": 16,
     "metadata": {},
     "output_type": "execute_result"
    }
   ],
   "source": [
    "sqr(3)"
   ]
  },
  {
   "cell_type": "code",
   "execution_count": 17,
   "metadata": {},
   "outputs": [
    {
     "name": "stdout",
     "output_type": "stream",
     "text": [
      "0\n",
      "1\n",
      "4\n"
     ]
    }
   ],
   "source": [
    "for i in sqr(3):\n",
    "    print(i)"
   ]
  },
  {
   "cell_type": "code",
   "execution_count": 19,
   "metadata": {},
   "outputs": [
    {
     "data": {
      "text/plain": [
       "<generator object sqr at 0x105e601e0>"
      ]
     },
     "execution_count": 19,
     "metadata": {},
     "output_type": "execute_result"
    }
   ],
   "source": [
    "a = sqr(3)\n",
    "a"
   ]
  },
  {
   "cell_type": "code",
   "execution_count": 22,
   "metadata": {},
   "outputs": [
    {
     "data": {
      "text/plain": [
       "4"
      ]
     },
     "execution_count": 22,
     "metadata": {},
     "output_type": "execute_result"
    }
   ],
   "source": [
    "next(a)"
   ]
  },
  {
   "cell_type": "code",
   "execution_count": 1,
   "metadata": {},
   "outputs": [
    {
     "name": "stdout",
     "output_type": "stream",
     "text": [
      "0\n",
      "1\n",
      "4\n",
      "0\n",
      "1\n",
      "4\n"
     ]
    }
   ],
   "source": [
    "def sqr(n):\n",
    "    for i in range(n):  # Using the input argument 'n' in the range\n",
    "        yield i**2\n",
    "\n",
    "# Loop through the values yielded by sqr(3) and print them\n",
    "for i in sqr(3):\n",
    "    print(i)\n",
    "\n",
    "# Create a generator object and assign it to 'a'\n",
    "a = sqr(3)\n",
    "\n",
    "# Now, we can use the 'a' generator to retrieve values one by one using next()\n",
    "print(next(a))  # Output: 0\n",
    "print(next(a))  # Output: 1\n",
    "print(next(a))  # Output: 4\n",
    "\n",
    "# Calling next(a) again will raise StopIteration since the generator is exhausted.\n",
    "# print(next(a))  # Uncommenting this line will raise StopIteration\n"
   ]
  },
  {
   "cell_type": "code",
   "execution_count": 3,
   "metadata": {},
   "outputs": [
    {
     "name": "stdout",
     "output_type": "stream",
     "text": [
      "Technology is an ever-evolving field that has transformed virtually every aspect of human life. From the advent of the first computers to the development of artificial intelligence, blockchain, and quantum computing, technological advancements continue to drive innovation in industries such as healthcare, education, finance, and entertainment.\n",
      "\n",
      "One of the most prominent changes has been the shift towards digitalization. The internet has connected the world, allowing information to be shared instantly and facilitating remote communication and collaboration. Technologies like cloud computing have made data storage and processing more accessible and cost-effective, revolutionizing how businesses operate.\n",
      "\n",
      "In recent years, automation and machine learning have paved the way for smarter systems that can analyze data, predict outcomes, and even make decisions autonomously. These innovations are reshaping industries, from self-driving cars in the automotive sector to predictive algorithms in finance.\n",
      "\n",
      "The impact of technology is also seen in the increasing integration of the physical and digital worlds. The Internet of Things (IoT) connects everyday objects, making them \"smart\" and capable of communicating with each other. In healthcare, wearable devices monitor health metrics, providing real-time data for personalized care.\n",
      "\n",
      "At the same time, technological advances present challenges, such as concerns around privacy, cybersecurity, and ethical implications of AI. The pace at which technology evolves requires constant adaptation, and it’s essential to balance progress with responsibility.\n",
      "\n",
      "As we look to the future, the potential of emerging technologies—such as augmented reality, artificial intelligence, and quantum computing—promises even more profound changes, offering exciting opportunities and complex questions for society to navigate.\n"
     ]
    }
   ],
   "source": [
    "# large file handeling \n",
    "def read_large_file(file_path):\n",
    "    with open(file_path, 'r') as file:\n",
    "        for line in file:\n",
    "            yield line\n",
    "\n",
    "\n",
    "file_path = 'large_file.txt'\n",
    "\n",
    "\n",
    "for line in read_large_file(file_path):\n",
    "    print(line.strip())\n",
    "\n"
   ]
  },
  {
   "cell_type": "code",
   "execution_count": 4,
   "metadata": {},
   "outputs": [
    {
     "name": "stdout",
     "output_type": "stream",
     "text": [
      "Technology is an ever-evolving field that has transformed virtually every aspect of human life. From the advent of the first computers to the development of artificial intelligence, blockchain, and quantum computing, technological advancements continue to drive innovation in industries such as healthcare, education, finance, and entertainment.\n",
      "\n",
      "\n",
      "\n",
      "One of the most prominent changes has been the shift towards digitalization. The internet has connected the world, allowing information to be shared instantly and facilitating remote communication and collaboration. Technologies like cloud computing have made data storage and processing more accessible and cost-effective, revolutionizing how businesses operate.\n",
      "\n",
      "\n",
      "\n",
      "In recent years, automation and machine learning have paved the way for smarter systems that can analyze data, predict outcomes, and even make decisions autonomously. These innovations are reshaping industries, from self-driving cars in the automotive sector to predictive algorithms in finance.\n",
      "\n",
      "\n",
      "\n",
      "The impact of technology is also seen in the increasing integration of the physical and digital worlds. The Internet of Things (IoT) connects everyday objects, making them \"smart\" and capable of communicating with each other. In healthcare, wearable devices monitor health metrics, providing real-time data for personalized care.\n",
      "\n",
      "\n",
      "\n",
      "At the same time, technological advances present challenges, such as concerns around privacy, cybersecurity, and ethical implications of AI. The pace at which technology evolves requires constant adaptation, and it’s essential to balance progress with responsibility.\n",
      "\n",
      "\n",
      "\n",
      "As we look to the future, the potential of emerging technologies—such as augmented reality, artificial intelligence, and quantum computing—promises even more profound changes, offering exciting opportunities and complex questions for society to navigate.\n",
      "\n"
     ]
    }
   ],
   "source": [
    "for line in read_large_file(file_path):\n",
    "    print(line)"
   ]
  },
  {
   "cell_type": "code",
   "execution_count": 5,
   "metadata": {},
   "outputs": [],
   "source": [
    "def my_generator():\n",
    "    yield 1\n",
    "    yield 2\n",
    "    yield 3\n",
    "gen = my_generator()"
   ]
  },
  {
   "cell_type": "code",
   "execution_count": 6,
   "metadata": {},
   "outputs": [
    {
     "name": "stdout",
     "output_type": "stream",
     "text": [
      "<generator object my_generator at 0x103e3b1c0>\n"
     ]
    }
   ],
   "source": [
    "print(gen)"
   ]
  },
  {
   "cell_type": "code",
   "execution_count": 7,
   "metadata": {},
   "outputs": [
    {
     "data": {
      "text/plain": [
       "1"
      ]
     },
     "execution_count": 7,
     "metadata": {},
     "output_type": "execute_result"
    }
   ],
   "source": [
    "next(gen)"
   ]
  },
  {
   "cell_type": "code",
   "execution_count": 8,
   "metadata": {},
   "outputs": [
    {
     "name": "stdout",
     "output_type": "stream",
     "text": [
      "2\n",
      "3\n"
     ]
    }
   ],
   "source": [
    "for val in gen:\n",
    "    print(val)"
   ]
  },
  {
   "cell_type": "code",
   "execution_count": null,
   "metadata": {},
   "outputs": [],
   "source": []
  }
 ],
 "metadata": {
  "kernelspec": {
   "display_name": "nr",
   "language": "python",
   "name": "python3"
  },
  "language_info": {
   "codemirror_mode": {
    "name": "ipython",
    "version": 3
   },
   "file_extension": ".py",
   "mimetype": "text/x-python",
   "name": "python",
   "nbconvert_exporter": "python",
   "pygments_lexer": "ipython3",
   "version": "3.11.11"
  }
 },
 "nbformat": 4,
 "nbformat_minor": 2
}
