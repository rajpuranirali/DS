{
 "cells": [
  {
   "cell_type": "code",
   "execution_count": 2,
   "id": "d613efa9-0f81-4b20-a067-bc237319c660",
   "metadata": {},
   "outputs": [
    {
     "name": "stdout",
     "output_type": "stream",
     "text": [
      "Hello,\n",
      "How are you?\n",
      "\n"
     ]
    }
   ],
   "source": [
    "#Read whole file \n",
    "with open ('example.txt' , 'r') as file:\n",
    "    content =file.read()\n",
    "    print(content)"
   ]
  },
  {
   "cell_type": "code",
   "execution_count": 10,
   "id": "818b5d8c-858a-49f3-92f9-3c1a30567301",
   "metadata": {},
   "outputs": [
    {
     "name": "stdout",
     "output_type": "stream",
     "text": [
      "Hello,\n",
      "\n",
      "How are you?\n",
      "\n"
     ]
    }
   ],
   "source": [
    "# Read line by line\n",
    "# When I read line by line after a line whole new line is added \n",
    "\n",
    "with open ('example.txt', 'r') as file:\n",
    "    for line in file:\n",
    "        print(line)\n",
    "        "
   ]
  },
  {
   "cell_type": "code",
   "execution_count": 18,
   "id": "ca55554f-28a2-45e3-9f6d-7ac486d0495a",
   "metadata": {},
   "outputs": [
    {
     "name": "stdout",
     "output_type": "stream",
     "text": [
      "Hello,\n",
      "How are you?\n"
     ]
    }
   ],
   "source": [
    "with open ('example.txt', 'r') as file:\n",
    "    for line in file:\n",
    "        print(line.strip()) #line.strip()removes the new line character \n",
    "        "
   ]
  },
  {
   "cell_type": "code",
   "execution_count": 37,
   "id": "1666fca6-da03-4363-a720-d50d3f29b547",
   "metadata": {},
   "outputs": [],
   "source": [
    "# Writing a file(overwrite)\n",
    "# It will write in the file and entire content will be overwritten. \n",
    "with open('example.txt','w') as file:\n",
    "    file.write(\"Hello World\\n\")\n",
    "    file.write(\"This is a new line\\n\")\n",
    "    "
   ]
  },
  {
   "cell_type": "code",
   "execution_count": 41,
   "id": "5fc86fa8-3665-448c-ad38-764302105448",
   "metadata": {},
   "outputs": [],
   "source": [
    "# Write a file without overwrite\n",
    "# It will append the text as many time as we run thi \n",
    "with open('example.txt','a') as file:\n",
    "    file.write(\"My name is Tom\\n\")\n",
    "    file.write(\"Jerry is my best friend\\n\")\n"
   ]
  },
  {
   "cell_type": "code",
   "execution_count": 51,
   "id": "2f4a81ae-bf20-4989-b52f-4516594d7e20",
   "metadata": {},
   "outputs": [],
   "source": [
    "# writing a list of lines to the file.\n",
    "lines = ['first line \\n', 'second line\\n' , 'third line']\n",
    "with open('example.txt','a') as file:\n",
    "    file.writelines(lines)"
   ]
  },
  {
   "cell_type": "code",
   "execution_count": null,
   "id": "90f82e82-56ca-40ba-9867-2ab4ace98e9f",
   "metadata": {},
   "outputs": [],
   "source": [
    "# binary file\n",
    "# bin file -> example.bin\n",
    "\n",
    " "
   ]
  }
 ],
 "metadata": {
  "kernelspec": {
   "display_name": "Python [conda env:nr]",
   "language": "python",
   "name": "conda-env-nr-py"
  },
  "language_info": {
   "codemirror_mode": {
    "name": "ipython",
    "version": 3
   },
   "file_extension": ".py",
   "mimetype": "text/x-python",
   "name": "python",
   "nbconvert_exporter": "python",
   "pygments_lexer": "ipython3",
   "version": "3.11.11"
  }
 },
 "nbformat": 4,
 "nbformat_minor": 5
}
