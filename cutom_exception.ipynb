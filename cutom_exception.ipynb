{
 "cells": [
  {
   "cell_type": "code",
   "execution_count": 2,
   "metadata": {},
   "outputs": [],
   "source": [
    "class Error(Exception):\n",
    "    pass\n",
    "class dobException(Error):\n",
    "    pass"
   ]
  },
  {
   "cell_type": "code",
   "execution_count": 9,
   "metadata": {},
   "outputs": [
    {
     "name": "stdout",
     "output_type": "stream",
     "text": [
      "The age is valid and yu can apply for Exam.\n",
      "All the best for your future!!\n"
     ]
    }
   ],
   "source": [
    "try:\n",
    "    year = int(input(\"Please Enter dob: \"))\n",
    "    age = 2025 - year\n",
    "\n",
    "    if age<=30 and age >=20 :\n",
    "        print(\"The age is valid and yu can apply for Exam.\")\n",
    "    else:\n",
    "        raise dobException    \n",
    "\n",
    "except dobException:\n",
    "    print(\"Sorry, your age should be greater than 20 or less than 30.\")\n",
    "finally:\n",
    "    print(\"All the best for your future!!\")"
   ]
  },
  {
   "cell_type": "code",
   "execution_count": 10,
   "metadata": {},
   "outputs": [
    {
     "name": "stdout",
     "output_type": "stream",
     "text": [
      "Sorry, your age should be greater than 20 or less than 30.\n",
      "All the best for your future!!\n"
     ]
    }
   ],
   "source": [
    "try:\n",
    "    year = int(input(\"Please Enter dob: \"))\n",
    "    age = 2025 - year\n",
    "\n",
    "    if age<=30 and age >=20 :\n",
    "        print(\"The age is valid and yu can apply for Exam.\")\n",
    "    else:\n",
    "        raise dobException    \n",
    "\n",
    "except dobException:\n",
    "    print(\"Sorry, your age should be greater than 20 or less than 30.\")\n",
    "finally:\n",
    "    print(\"All the best for your future!!\")"
   ]
  },
  {
   "cell_type": "code",
   "execution_count": null,
   "metadata": {},
   "outputs": [],
   "source": []
  }
 ],
 "metadata": {
  "kernelspec": {
   "display_name": "nr",
   "language": "python",
   "name": "python3"
  },
  "language_info": {
   "codemirror_mode": {
    "name": "ipython",
    "version": 3
   },
   "file_extension": ".py",
   "mimetype": "text/x-python",
   "name": "python",
   "nbconvert_exporter": "python",
   "pygments_lexer": "ipython3",
   "version": "3.11.11"
  }
 },
 "nbformat": 4,
 "nbformat_minor": 2
}
